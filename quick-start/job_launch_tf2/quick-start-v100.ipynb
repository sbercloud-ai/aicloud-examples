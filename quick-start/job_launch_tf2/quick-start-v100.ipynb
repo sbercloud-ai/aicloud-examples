{
 "cells": [
  {
   "cell_type": "markdown",
   "metadata": {},
   "source": [
    "### Данный Jupiter-ноутбук предназначен для запуска на Jupyter-сервере внутри AI Cloud. Если вы хотите выполнить те же самые действия из удаленного Jupyter-сервера, посмотрите пример отправки задач на обучение через Training Job API."
   ]
  },
  {
   "cell_type": "markdown",
   "metadata": {},
   "source": [
    "# 0. Подключение библиотеки для работы с кластером и сервисом"
   ]
  },
  {
   "cell_type": "code",
   "execution_count": 1,
   "metadata": {},
   "outputs": [],
   "source": [
    "try:\n",
    "    import client_lib\n",
    "except ImportError:\n",
    "    raise RuntimeError(\"Скрипт не предназначен для запуска вне кластера\")"
   ]
  },
  {
   "cell_type": "code",
   "execution_count": 2,
   "metadata": {},
   "outputs": [],
   "source": [
    "import requests"
   ]
  },
  {
   "cell_type": "code",
   "execution_count": 3,
   "metadata": {},
   "outputs": [],
   "source": [
    "def save_file(url, filename):\n",
    "    # Download file and place it on local storage\n",
    "    r = requests.get(url)\n",
    "\n",
    "    with open(filename, 'wb') as f:\n",
    "        f.write(r.content)\n",
    "    print(f\"{filename} downloaded from {url}\")"
   ]
  },
  {
   "cell_type": "markdown",
   "metadata": {},
   "source": [
    "# 1. Размещаем модель и данные на локальные диски кластера"
   ]
  },
  {
   "cell_type": "code",
   "execution_count": 4,
   "metadata": {},
   "outputs": [
    {
     "name": "stdout",
     "output_type": "stream",
     "text": [
      "mnist.npz downloaded from https://github.com/sbercloud-ai/aicloud-examples/raw/master/quick-start/job_launch_tf2/mnist.npz\n",
      "requirements.txt downloaded from https://github.com/sbercloud-ai/aicloud-examples/raw/master/quick-start/job_launch_tf2/requirements.txt\n",
      "tensorflow_mnist_estimator.py downloaded from https://raw.githubusercontent.com/sbercloud-ai/aicloud-examples/master/quick-start/job_launch_tf2/tensorflow_mnist_estimator.py\n"
     ]
    }
   ],
   "source": [
    "save_file(\"https://github.com/sbercloud-ai/aicloud-examples/raw/master/quick-start/job_launch_tf2/mnist.npz\", \"mnist.npz\")\n",
    "save_file(\"https://github.com/sbercloud-ai/aicloud-examples/raw/master/quick-start/job_launch_tf2/requirements.txt\", \"requirements.txt\")\n",
    "save_file(\"https://raw.githubusercontent.com/sbercloud-ai/aicloud-examples/master/quick-start/job_launch_tf2/tensorflow_mnist_estimator.py\", \"tensorflow_mnist_estimator.py\")"
   ]
  },
  {
   "cell_type": "markdown",
   "metadata": {},
   "source": [
    "# 2. Сборка кастомного образа с нужными библиотеками"
   ]
  },
  {
   "cell_type": "markdown",
   "metadata": {},
   "source": [
    "##### Содержимое файла requirements.txt"
   ]
  },
  {
   "cell_type": "code",
   "execution_count": 5,
   "metadata": {},
   "outputs": [
    {
     "name": "stdout",
     "output_type": "stream",
     "text": [
      "# tensorflow-gpu 2.3.0 already installed in registry.aicloud.sbcp.ru/base/horovod-cuda10.1-tf2.3.0\r\n",
      "# with other libraries, we add one more:\r\n",
      "requests"
     ]
    }
   ],
   "source": [
    "%cat /home/jovyan/quick-start/job_launch_tf2/requirements.txt"
   ]
  },
  {
   "cell_type": "markdown",
   "metadata": {},
   "source": [
    "##### Запуск сборки кастомного образа с необходимыми библиотеками"
   ]
  },
  {
   "cell_type": "code",
   "execution_count": 6,
   "metadata": {},
   "outputs": [
    {
     "data": {
      "text/plain": [
       "'ImageBuildJob \"{\\'image\\': \\'cr.msk.sbercloud.ru/eec0971f-da40-49ba-a962-d08ec3a53a0a/job-custom-image-4817bf\\', \\'name\\': \\'image-build-job-5nzf8\\', \\'status\\': \\'ok\\'}\" created'"
      ]
     },
     "execution_count": 6,
     "metadata": {},
     "output_type": "execute_result"
    }
   ],
   "source": [
    "job = client_lib.ImageBuildJob(\n",
    "                    from_image='cr.msk.sbercloud.ru/aicloud-base-images/horovod-cuda11.0-tf2.4.0-pt1.7.1', # базовый образ\n",
    "                    requirements_file='/home/jovyan/quick-start/job_launch_tf2/requirements.txt' # файл с зависимостями для кастомного образа\n",
    ")\n",
    "\n",
    "job.submit()"
   ]
  },
  {
   "cell_type": "code",
   "execution_count": 9,
   "metadata": {},
   "outputs": [
    {
     "data": {
      "text/plain": [
       "'cr.msk.sbercloud.ru/eec0971f-da40-49ba-a962-d08ec3a53a0a/job-custom-image-4817bf'"
      ]
     },
     "execution_count": 9,
     "metadata": {},
     "output_type": "execute_result"
    }
   ],
   "source": [
    "job.new_image # идентификатор кастомного образа"
   ]
  },
  {
   "cell_type": "code",
   "execution_count": null,
   "metadata": {},
   "outputs": [
    {
     "name": "stdout",
     "output_type": "stream",
     "text": [
      "\u001B[36mINFO\u001B[0m[0006] Resolved base name cr.msk.sbercloud.ru/aicloud-base-images/horovod-cuda11.0-tf2.4.0-pt1.7.1 to cr.msk.sbercloud.ru/aicloud-base-images/horovod-cuda11.0-tf2.4.0-pt1.7.1 \n",
      "\u001B[36mINFO\u001B[0m[0006] Resolved base name cr.msk.sbercloud.ru/aicloud-base-images/horovod-cuda11.0-tf2.4.0-pt1.7.1 to cr.msk.sbercloud.ru/aicloud-base-images/horovod-cuda11.0-tf2.4.0-pt1.7.1 \n",
      "\u001B[36mINFO\u001B[0m[0006] Retrieving image manifest cr.msk.sbercloud.ru/aicloud-base-images/horovod-cuda11.0-tf2.4.0-pt1.7.1 \n",
      "\u001B[36mINFO\u001B[0m[0006] Retrieving image manifest cr.msk.sbercloud.ru/aicloud-base-images/horovod-cuda11.0-tf2.4.0-pt1.7.1 \n",
      "\u001B[36mINFO\u001B[0m[0007] Built cross stage deps: map[]                \n",
      "\u001B[36mINFO\u001B[0m[0007] Retrieving image manifest cr.msk.sbercloud.ru/aicloud-base-images/horovod-cuda11.0-tf2.4.0-pt1.7.1 \n",
      "\u001B[36mINFO\u001B[0m[0007] Retrieving image manifest cr.msk.sbercloud.ru/aicloud-base-images/horovod-cuda11.0-tf2.4.0-pt1.7.1 \n"
     ]
    }
   ],
   "source": [
    "job.logs() # просмотр логов сборки образа в интерактивном режиме"
   ]
  },
  {
   "cell_type": "markdown",
   "metadata": {},
   "source": [
    "# 3. Запуск задачи обучения на кластере"
   ]
  },
  {
   "attachments": {},
   "cell_type": "markdown",
   "metadata": {},
   "source": [
    "#### Создание задачи обучения и отправка ее на кластер\n",
    "\n",
    "Параметр `base_image` предназначен для запуска задачи на кластере в своем кастомном образе (см. пункт 2 выше). Переменная `job.new_image` содержит название собранного кастомного образа (вида: `registry.aicloud.sbcp.ru/ai0000001-0254/b5594f73-fd8b-4224-ba7c-81101499e073`).\n",
    "\n",
    "По окончании сборки кастомного образа его можно указать в поле `base_image` и отправить задачу обучения на кластер с использованием этого образа:\n",
    "```python\n",
    "mnist_tf_run = client_lib.Job(base_image=job.new_image, # кастомный образ\n",
    "                              script='/home/jovyan/quick-start/job_launch_tf2/tensorflow_mnist_estimator.py',\n",
    "                              n_workers=2, instance_type=a100.1gpu.80vG.12C.96G)\n",
    "```"
   ]
  },
  {
   "cell_type": "code",
   "execution_count": 5,
   "metadata": {},
   "outputs": [],
   "source": [
    "# base_image='cr.msk.sbercloud.ru/aicloud-base-images/horovod-cuda11.0-tf2.4.0-pt1.7.1' -\n",
    "#    базовый образ, можно заменить на свой (смотри выше)\n",
    "mnist_tf_run = client_lib.Job(\n",
    "    base_image='cr.msk.sbercloud.ru/aicloud-base-images/horovod-cuda11.0-tf2.4.0-pt1.7.1',\n",
    "    script='/home/jovyan/quick-start/job_launch_tf2/tensorflow_mnist_estimator.py',\n",
    "    n_workers=2, instance_type=v100.2gpu, warm_cache=False)"
   ]
  },
  {
   "attachments": {},
   "cell_type": "markdown",
   "metadata": {},
   "source": [
    "В предыдущей строке мы указали образ, в рамках которого будет исполняться задача (`base_image`), скрипт, который будет запущен (`script`), а также количество рабочих узлов кластера (`n_workers`) и конфигурация вычислительных ресурсов (`instance_type`). В этом случае под задачу будет запущено 2 рабочих узла по 2 GPU карты (итого — 4 GPU).\n",
    "\n",
    "Теперь вызовем на объекте метод `.submit()` и отправим задачу в очередь исполнения на кластере."
   ]
  },
  {
   "cell_type": "code",
   "execution_count": 6,
   "metadata": {},
   "outputs": [
    {
     "data": {
      "text/plain": [
       "'Job \"lm-mpi-job-767099ae-c62a-4818-8e59-34f0f81c5849\" created'"
      ]
     },
     "execution_count": 6,
     "metadata": {},
     "output_type": "execute_result"
    }
   ],
   "source": [
    "mnist_tf_run.submit()"
   ]
  },
  {
   "cell_type": "markdown",
   "metadata": {},
   "source": [
    "#### Мониторинг задач\n",
    "\n",
    "Вы можете просмотреть список ваших задач и их статус с помощью следующего метода:"
   ]
  },
  {
   "cell_type": "code",
   "execution_count": 12,
   "metadata": {},
   "outputs": [
    {
     "name": "stdout",
     "output_type": "stream",
     "text": [
      "2021-11-22T14:30:21Z : lm-mpi-job-60977dbc-1641-411f-a651-0a853af512ad : Completed\n",
      "2021-12-02T11:16:16Z : lm-mpi-job-767099ae-c62a-4818-8e59-34f0f81c5849 : Pending\n"
     ]
    }
   ],
   "source": [
    "client_lib.jobs()"
   ]
  },
  {
   "cell_type": "markdown",
   "metadata": {},
   "source": [
    "Логи задачи:"
   ]
  },
  {
   "cell_type": "code",
   "execution_count": 14,
   "metadata": {},
   "outputs": [
    {
     "name": "stdout",
     "output_type": "stream",
     "text": [
      "Job in queue. Try later\n"
     ]
    }
   ],
   "source": [
    "mnist_tf_run.logs()"
   ]
  },
  {
   "cell_type": "markdown",
   "metadata": {},
   "source": [
    "Логи по названию задачи:"
   ]
  },
  {
   "cell_type": "code",
   "execution_count": 15,
   "metadata": {},
   "outputs": [
    {
     "name": "stdout",
     "output_type": "stream",
     "text": [
      "Job in queue. Try later\n"
     ]
    }
   ],
   "source": [
    "client_lib.logs(\"lm-mpi-job-767099ae-c62a-4818-8e59-34f0f81c5849\")"
   ]
  },
  {
   "cell_type": "markdown",
   "metadata": {},
   "source": [
    "(ЕСЛИ НЕОБХОДИМО ПРЕРВАТЬ ЗАДАЧУ) Варианты остановки задачи:"
   ]
  },
  {
   "cell_type": "code",
   "execution_count": null,
   "metadata": {},
   "outputs": [],
   "source": [
    "mnist_tf_run.kill()"
   ]
  },
  {
   "cell_type": "code",
   "execution_count": null,
   "metadata": {},
   "outputs": [],
   "source": [
    "client_lib.kill('lm-mpi-job-767099ae-c62a-4818-8e59-34f0f81c5849')"
   ]
  },
  {
   "cell_type": "markdown",
   "metadata": {},
   "source": [
    "# 4. Сохранение промежуточных результатов обучения модели"
   ]
  },
  {
   "cell_type": "markdown",
   "metadata": {},
   "source": [
    "Если в процессе обучения модели пользователь сохраняет промежуточные результаты (checkpoints) обучения, они попадают в папку `/home/jovyan/quick-start/job_launch_tf2/checkpoints_tf/mnist_convnet_model/`. Их можно скачать через веб-интерфейс Jupyter-ноутбука или скопировать из локально доступной файловой системы в хранилище S3. Внутри кода задачи обучения можно сохранять метрики модели с помощью `mlflow` (пример — в коде `tensorflow_mnist_estimator.py`)."
   ]
  },
  {
   "cell_type": "markdown",
   "metadata": {},
   "source": [
    "## Выгрузка результатов обучения модели с NFS на S3"
   ]
  },
  {
   "cell_type": "markdown",
   "metadata": {},
   "source": [
    "##### Указываем параметры доступа к бакету S3"
   ]
  },
  {
   "cell_type": "markdown",
   "metadata": {},
   "source": [
    "Для перемещения данных из локального хранилища `/home/jovyan` в объектное хранилище S3 необходимо указать параметры доступа к бакету S3. Эти данные можно найти на портале portal.sbercloud.ru в параметрах заказанной услуги AI Cloud (\"Мои услуги\"->\"AI Cloud\").\n",
    "\n",
    "В одинарных кавычках `''` введите  по порядку: `S3 namespace`, `S3 access key`, `S3 security key`"
   ]
  },
  {
   "cell_type": "code",
   "execution_count": null,
   "metadata": {},
   "outputs": [],
   "source": [
    "# Specify S3 credentials as follows\n",
    "# save_aws_credentials('b175178b-f537-4a1c-8977-7871bb9dc448-namespace', 'b13f3480-a701-48fb-85c5-b4a3b36f3713', 'BPBdF5E9CGAFv+rmBakFc+R0krVCHd/u4rPsqfG8')\n",
    "client_lib.save_aws_credentials('', '', '')"
   ]
  },
  {
   "cell_type": "markdown",
   "metadata": {},
   "source": [
    "Ниже укажем бакет s3, в который будут копироваться файлы"
   ]
  },
  {
   "cell_type": "code",
   "execution_count": null,
   "metadata": {},
   "outputs": [],
   "source": [
    "# Specify S3 bucket\n",
    "# s3_bucket = \"s3://9b8d0e96-6461-47cf-9507-21ede838c9ac-bucket/\"\n",
    "s3_bucket = \"\""
   ]
  },
  {
   "cell_type": "code",
   "execution_count": null,
   "metadata": {},
   "outputs": [],
   "source": [
    "# Перемещение отдельных файлов\n",
    "# client_lib.S3CopyJob(\"/home/jovyan/quick-start/job_launch_tf2/checkpoints_tf/mnist_convnet_model/checkpoint.data-00000-of-00001\", s3_bucket).submit()\n",
    "# client_lib.S3CopyJob(\"/home/jovyan/quick-start/job_launch_tf2/checkpoints_tf/mnist_convnet_model/checkpoint.ckpt.index\", s3_bucket).submit()\n",
    "# client_lib.S3CopyJob(\"/home/jovyan/quick-start/job_launch_tf2/checkpoints_tf/mnist_convnet_model/checkpoint\", s3_bucket).submit()"
   ]
  },
  {
   "cell_type": "code",
   "execution_count": null,
   "metadata": {},
   "outputs": [],
   "source": [
    "# Перемещение папки с файлами\n",
    "client_lib.S3CopyJob(\"/home/jovyan/quick-start/job_launch_tf2/checkpoints_tf/mnist_convnet_model/\", s3_bucket, recursive=True).submit()"
   ]
  },
  {
   "cell_type": "markdown",
   "metadata": {},
   "source": [
    "Если все было сделано правильно, то промежуточные результаты обучения модели сохранятся в объектном хранилище S3, из которого можно будет впоследствии восстановить объект с моделью"
   ]
  }
 ],
 "metadata": {
  "kernelspec": {
   "display_name": "Python 3 (ipykernel)",
   "language": "python",
   "name": "python3"
  },
  "language_info": {
   "codemirror_mode": {
    "name": "ipython",
    "version": 3
   },
   "file_extension": ".py",
   "mimetype": "text/x-python",
   "name": "python",
   "nbconvert_exporter": "python",
   "pygments_lexer": "ipython3",
   "version": "3.7.12"
  }
 },
 "nbformat": 4,
 "nbformat_minor": 4
}
