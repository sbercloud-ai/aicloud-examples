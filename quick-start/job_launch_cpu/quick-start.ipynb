{
 "cells": [
  {
   "cell_type": "markdown",
   "metadata": {
    "pycharm": {
     "name": "#%% md\n"
    }
   },
   "source": [
    "### Данный Jupiter-ноутбук предназначен для запуска на Jupyter-сервере внутри ML Space. Если вы хотите выполнить те же самые действия из удаленного Jupyter-сервера, посмотрите пример отправки задач на обучение через Training Job API."
   ]
  },
  {
   "cell_type": "markdown",
   "metadata": {
    "pycharm": {
     "name": "#%% md\n"
    }
   },
   "source": [
    "# 0. Подключение библиотеки для работы с кластером и сервисом"
   ]
  },
  {
   "cell_type": "code",
   "execution_count": 1,
   "metadata": {
    "pycharm": {
     "name": "#%%\n"
    }
   },
   "outputs": [],
   "source": [
    "try:\n",
    "    import client_lib\n",
    "except ImportError:\n",
    "    raise RuntimeError(\"Скрипт не предназначен для запуска вне кластера\")"
   ]
  },
  {
   "cell_type": "code",
   "execution_count": 2,
   "metadata": {
    "collapsed": false,
    "jupyter": {
     "outputs_hidden": false
    },
    "pycharm": {
     "name": "#%%\n"
    }
   },
   "outputs": [
    {
     "name": "stdout",
     "output_type": "stream",
     "text": [
      "Working dir: /home/jovyan/quick-start/job_launch_cpu\n"
     ]
    }
   ],
   "source": [
    "import pathlib\n",
    "# BASE_DIR will be like '/home/jovyan/DemoExample/'\n",
    "BASE_DIR = pathlib.Path().absolute()\n",
    "print(f\"Working dir: {BASE_DIR}\")"
   ]
  },
  {
   "cell_type": "code",
   "execution_count": 3,
   "metadata": {
    "pycharm": {
     "name": "#%%\n"
    }
   },
   "outputs": [],
   "source": [
    "import requests"
   ]
  },
  {
   "cell_type": "code",
   "execution_count": 4,
   "metadata": {
    "pycharm": {
     "name": "#%%\n"
    }
   },
   "outputs": [],
   "source": [
    "def save_file(url, filename):\n",
    "    # Download file and place it on local storage\n",
    "    r = requests.get(url)\n",
    "    \n",
    "    with open(filename, 'wb') as f:\n",
    "        f.write(r.content)\n",
    "    print(f\"{filename} downloaded from {url}\")"
   ]
  },
  {
   "cell_type": "markdown",
   "metadata": {
    "pycharm": {
     "name": "#%% md\n"
    }
   },
   "source": [
    "# 1. Размещаем модель и данные на локальные диски кластера "
   ]
  },
  {
   "cell_type": "markdown",
   "metadata": {
    "pycharm": {
     "name": "#%% md\n"
    }
   },
   "source": [
    "По умолчанию рабочая директория пользователя установлена в папку `/home/jovyan`"
   ]
  },
  {
   "cell_type": "code",
   "execution_count": 5,
   "metadata": {
    "collapsed": false,
    "jupyter": {
     "outputs_hidden": false
    },
    "pycharm": {
     "name": "#%%\n"
    }
   },
   "outputs": [
    {
     "name": "stdout",
     "output_type": "stream",
     "text": [
      "cal_housing_py3.pkz downloaded from https://github.com/sbercloud-ai/aicloud-examples/raw/master/quick-start/job_launch_cpu/cal_housing_py3.pkz\n"
     ]
    }
   ],
   "source": [
    "save_file(\"https://github.com/sbercloud-ai/aicloud-examples/raw/master/quick-start/job_launch_cpu/cal_housing_py3.pkz\", \"cal_housing_py3.pkz\")"
   ]
  },
  {
   "cell_type": "code",
   "execution_count": 6,
   "metadata": {
    "collapsed": false,
    "jupyter": {
     "outputs_hidden": false
    },
    "pycharm": {
     "name": "#%%\n"
    }
   },
   "outputs": [
    {
     "name": "stdout",
     "output_type": "stream",
     "text": [
      "requirements.txt downloaded from https://github.com/sbercloud-ai/aicloud-examples/raw/master/quick-start/job_launch_cpu/requirements.txt\n"
     ]
    }
   ],
   "source": [
    "save_file(\"https://github.com/sbercloud-ai/aicloud-examples/raw/master/quick-start/job_launch_cpu/requirements.txt\", \"requirements.txt\")"
   ]
  },
  {
   "cell_type": "code",
   "execution_count": 7,
   "metadata": {
    "collapsed": false,
    "jupyter": {
     "outputs_hidden": false
    },
    "pycharm": {
     "name": "#%%\n"
    }
   },
   "outputs": [
    {
     "name": "stdout",
     "output_type": "stream",
     "text": [
      "xgboost-boston-house-price.py downloaded from https://raw.githubusercontent.com/sbercloud-ai/aicloud-examples/master/quick-start/job_launch_cpu/xgboost-boston-house-price.py\n"
     ]
    }
   ],
   "source": [
    "save_file(\"https://raw.githubusercontent.com/sbercloud-ai/aicloud-examples/master/quick-start/job_launch_cpu/xgboost-boston-house-price.py\", \"xgboost-boston-house-price.py\")"
   ]
  },
  {
   "cell_type": "markdown",
   "metadata": {
    "pycharm": {
     "name": "#%% md\n"
    }
   },
   "source": [
    "# 2. Сборка кастомного образа с нужными библиотеками"
   ]
  },
  {
   "cell_type": "markdown",
   "metadata": {
    "pycharm": {
     "name": "#%% md\n"
    }
   },
   "source": [
    "##### Содержимое файла requirements.txt"
   ]
  },
  {
   "cell_type": "code",
   "execution_count": 8,
   "metadata": {
    "pycharm": {
     "name": "#%%\n"
    }
   },
   "outputs": [
    {
     "name": "stdout",
     "output_type": "stream",
     "text": [
      "# tensorflow-gpu 1.15 already installed in registry.aicloud.sbcp.ru/horovod-tf15\n",
      "# with other libraries, we add one more:\n",
      "requests"
     ]
    }
   ],
   "source": [
    "%cat /home/jovyan/quick-start/job_launch_cpu/requirements.txt"
   ]
  },
  {
   "cell_type": "markdown",
   "metadata": {
    "pycharm": {
     "name": "#%% md\n"
    }
   },
   "source": [
    "##### Запуск сборки кастомного образа с необходимыми библиотеками"
   ]
  },
  {
   "cell_type": "code",
   "execution_count": 8,
   "metadata": {
    "pycharm": {
     "name": "#%%\n"
    }
   },
   "outputs": [],
   "source": [
    "job = client_lib.ImageBuildJob(\n",
    "                    from_image='cr.msk.sbercloud.ru/aicloud-base-images/horovod-cuda10.0-tf1.15.0-pt1.3.0', # базовый образ\n",
    "                    requirements_file=f'{BASE_DIR}/requirements.txt' # файл с зависимостями для кастомного образа\n",
    ")"
   ]
  },
  {
   "cell_type": "code",
   "execution_count": 14,
   "metadata": {
    "pycharm": {
     "name": "#%%\n"
    }
   },
   "outputs": [
    {
     "name": "stdin",
     "output_type": "stream",
     "text": [
      "Files from nfs Christofari.V100 will be used in process. If you want to use files from other regions, you should use copy_to_nfs function. Do you want to continue? y/n:  y\n"
     ]
    },
    {
     "data": {
      "text/plain": [
       "'ImageBuildJob \"{\\'image\\': \\'cr.msk.sbercloud.ru/eec0971f-da40-49ba-a962-d08ec3a53a0a/job-custom-image-20843a\\', \\'name\\': \\'image-build-job-mvx22\\', \\'status\\': \\'ok\\'}\" created'"
      ]
     },
     "execution_count": 14,
     "metadata": {},
     "output_type": "execute_result"
    }
   ],
   "source": [
    "job.submit()"
   ]
  },
  {
   "cell_type": "code",
   "execution_count": 15,
   "metadata": {
    "pycharm": {
     "name": "#%%\n"
    },
    "scrolled": true
   },
   "outputs": [
    {
     "data": {
      "text/plain": [
       "'cr.msk.sbercloud.ru/eec0971f-da40-49ba-a962-d08ec3a53a0a/job-custom-image-20843a'"
      ]
     },
     "execution_count": 15,
     "metadata": {},
     "output_type": "execute_result"
    }
   ],
   "source": [
    "job.new_image # идентификатор кастомного образа"
   ]
  },
  {
   "cell_type": "code",
   "execution_count": null,
   "metadata": {
    "pycharm": {
     "name": "#%%\n"
    },
    "scrolled": true
   },
   "outputs": [],
   "source": [
    "job.logs() # просмотр логов сборки образа в интерактивном режиме"
   ]
  },
  {
   "cell_type": "markdown",
   "metadata": {
    "pycharm": {
     "name": "#%% md\n"
    }
   },
   "source": [
    "# 3. Запуск задачи обучения на кластере"
   ]
  },
  {
   "cell_type": "markdown",
   "metadata": {
    "pycharm": {
     "name": "#%% md\n"
    }
   },
   "source": [
    "#### Создание задачи обучения и отправка ее на кластер\n",
    "\n",
    "Параметр `base_image` предназначен для выбора Docker образа на котором будет запущена задача обчучения. Вы можете выбрать образ от ML Space или запустить задачу на своем кастомном образе (см. пункт 2 выше). Переменная `job.new_image` содержит название собранного кастомного образа (вида: `cr.msk.sbercloud.ru/eec0971f-da40-49ba-a962-d08ec3a53a0a/job-custom-image-20843a`).\n",
    "\n",
    "По окончании сборки кастомного образа его можно указать в поле `base_image` и отправить задачу обучения на кластер с использованием этого образа:\n",
    "```python\n",
    "mnist_tf_run = client_lib.Job(base_image=job.new_image, # кастомный образ\n",
    "                              script='/home/jovyan/quick-start/job_launch/tensorflow_mnist_estimator.py',\n",
    "                             ...)\n",
    "```\n",
    "\n",
    "Обязательно указав парметры:\n",
    " * `type=\"cce\"`\n",
    " * `region='CCE-MT'`\n",
    " * `instance_type` — конфигурация вычислительных ресурсов\n",
    "\n",
    "**Важно.** Убедитесь, что код примеров которые вы запускаете, находится на файловой системе в нужном кластере. Например, в данном случае, файл `xgboost-boston-house-price.py` находится на файловой системе кластера `SR.01`."
   ]
  },
  {
   "cell_type": "code",
   "execution_count": 5,
   "metadata": {
    "pycharm": {
     "name": "#%%\n"
    }
   },
   "outputs": [],
   "source": [
    "# base_image='registry.aicloud.sbcp.ru/base/horovod-cuda10.0-tf1.15.0' -\n",
    "#     базовый образ, можно заменить на свой (смотри выше)\n",
    "cpu_job = client_lib.Job(\n",
    "    base_image='cr.msk.sbercloud.ru/aicloud-base-images/horovod-cuda10.0-tf1.15.0-pt1.3.0',\n",
    "    script=f'{BASE_DIR}/xgboost-boston-house-price.py',\n",
    "    n_workers=1,\n",
    "    type=\"cce\",\n",
    "    region='CCE-MT',\n",
    "    instance_type='m3.large.8.linux'\n",
    "    )"
   ]
  },
  {
   "cell_type": "markdown",
   "metadata": {
    "pycharm": {
     "name": "#%% md\n"
    }
   },
   "source": [
    "#### В предыдущей строке мы указали образ, в рамках которого будет исполняться задача (base_image), скрипт, который будет запущен (script), а также количество памяти и ядер процессора.\n",
    "\n",
    "#### В этом случае под задача выполняется на 1 рабочем узле.\n",
    "\n",
    "#### Теперь вызовем на объекте метод cpu_job.submit() и отправим задачу в очередь исполнения на кластере"
   ]
  },
  {
   "cell_type": "code",
   "execution_count": 6,
   "metadata": {
    "pycharm": {
     "name": "#%%\n"
    }
   },
   "outputs": [
    {
     "data": {
      "text/plain": [
       "'Job \"lm-mpi-job-e94f9696-73d1-4324-9c63-ae860d965a86\" created'"
      ]
     },
     "execution_count": 6,
     "metadata": {},
     "output_type": "execute_result"
    }
   ],
   "source": [
    "cpu_job.submit()"
   ]
  },
  {
   "cell_type": "markdown",
   "metadata": {
    "pycharm": {
     "name": "#%% md\n"
    }
   },
   "source": [
    "#### Вы можете просмотреть список ваших задач и их статус с помощью следующего метода"
   ]
  },
  {
   "cell_type": "code",
   "execution_count": 7,
   "metadata": {
    "pycharm": {
     "name": "#%%\n"
    },
    "scrolled": true
   },
   "outputs": [
    {
     "name": "stdout",
     "output_type": "stream",
     "text": [
      "2022-07-15T14:12:53Z : lm-mpi-job-151d3bcd-6a35-4fbe-913d-8bdf916864a0 : Failed\n",
      "2022-07-15T11:17:09Z : lm-mpi-job-1ff575a9-3936-4089-95ab-73a3b3e9bffb : Failed\n",
      "2022-07-15T13:53:02Z : lm-mpi-job-3789c8b4-54ee-4d66-b8c6-b4296d4bb64d : Failed\n",
      "2022-07-15T13:22:25Z : lm-mpi-job-572826c3-6b41-431f-a414-9283544303d2 : Completed\n",
      "2022-07-15T13:52:31Z : lm-mpi-job-73906e09-fa93-42cd-a9af-356d8caebd5b : Failed\n",
      "2022-07-15T14:09:53Z : lm-mpi-job-758b154d-a935-4abd-a315-26073f17e995 : Failed\n",
      "2022-07-15T13:27:34Z : lm-mpi-job-8304b7c2-0d40-4dca-9c4f-aacebdc3e7d4 : Failed\n",
      "2022-07-11T18:41:33Z : lm-mpi-job-9df536fd-093d-487a-a54f-52fd8ae5a88a : Failed\n",
      "2022-07-15T13:44:22Z : lm-mpi-job-c0d68be6-c927-4661-b122-d01938830a89 : Completed\n",
      "2022-07-15T14:04:15Z : lm-mpi-job-dcabecab-5b83-436c-b1e8-75efda7a40c0 : Failed\n",
      "2022-07-15T14:14:05Z : lm-mpi-job-e2b40c19-38ee-43e1-b599-2005ab4e4af3 : Completed\n",
      "2022-07-15T14:50:36Z : lm-mpi-job-e94f9696-73d1-4324-9c63-ae860d965a86 : Pending\n"
     ]
    }
   ],
   "source": [
    "client_lib.jobs(region='CCE-MT')"
   ]
  },
  {
   "cell_type": "markdown",
   "metadata": {
    "pycharm": {
     "name": "#%% md\n"
    }
   },
   "source": [
    "#### Логи задачи"
   ]
  },
  {
   "cell_type": "code",
   "execution_count": 8,
   "metadata": {
    "pycharm": {
     "name": "#%%\n"
    }
   },
   "outputs": [
    {
     "name": "stdout",
     "output_type": "stream",
     "text": [
      "2022-07-15T14:50:55.346197891Z Working dir: /home/jovyan\n",
      "2022-07-15T14:50:55.346247597Z <class 'pandas.core.frame.DataFrame'>\n",
      "2022-07-15T14:50:55.346252896Z RangeIndex: 20640 entries, 0 to 20639\n",
      "2022-07-15T14:50:55.346255359Z Data columns (total 9 columns):\n",
      "2022-07-15T14:50:55.346257579Z  #   Column      Non-Null Count  Dtype  \n",
      "2022-07-15T14:50:55.346260905Z ---  ------      --------------  -----  \n",
      "2022-07-15T14:50:55.346264042Z  0   MedInc      20640 non-null  float64\n",
      "2022-07-15T14:50:55.346267538Z  1   HouseAge    20640 non-null  float64\n",
      "2022-07-15T14:50:55.346270844Z  2   AveRooms    20640 non-null  float64\n",
      "2022-07-15T14:50:55.346274663Z  3   AveBedrms   20640 non-null  float64\n",
      "2022-07-15T14:50:55.346277755Z  4   Population  20640 non-null  float64\n",
      "2022-07-15T14:50:55.346280993Z  5   AveOccup    20640 non-null  float64\n",
      "2022-07-15T14:50:55.346284017Z  6   Latitude    20640 non-null  float64\n",
      "2022-07-15T14:50:55.346287036Z  7   Longitude   20640 non-null  float64\n",
      "2022-07-15T14:50:55.346289999Z  8   Price       20640 non-null  float64\n",
      "2022-07-15T14:50:55.346293086Z dtypes: float64(9)\n",
      "2022-07-15T14:50:55.34629593Z memory usage: 1.4 MB\n",
      "2022-07-15T14:50:55.346299374Z ==================================================\n",
      "2022-07-15T14:50:55.346302253Z RMSE: 0.47390177839101205\n"
     ]
    }
   ],
   "source": [
    "cpu_job.logs()"
   ]
  },
  {
   "cell_type": "markdown",
   "metadata": {
    "pycharm": {
     "name": "#%% md\n"
    }
   },
   "source": [
    "##### или по названию задачи"
   ]
  },
  {
   "cell_type": "code",
   "execution_count": 9,
   "metadata": {
    "pycharm": {
     "name": "#%%\n"
    }
   },
   "outputs": [
    {
     "name": "stdout",
     "output_type": "stream",
     "text": [
      "2022-07-15T14:50:55.346197891Z Working dir: /home/jovyan\n",
      "2022-07-15T14:50:55.346247597Z <class 'pandas.core.frame.DataFrame'>\n",
      "2022-07-15T14:50:55.346252896Z RangeIndex: 20640 entries, 0 to 20639\n",
      "2022-07-15T14:50:55.346255359Z Data columns (total 9 columns):\n",
      "2022-07-15T14:50:55.346257579Z  #   Column      Non-Null Count  Dtype  \n",
      "2022-07-15T14:50:55.346260905Z ---  ------      --------------  -----  \n",
      "2022-07-15T14:50:55.346264042Z  0   MedInc      20640 non-null  float64\n",
      "2022-07-15T14:50:55.346267538Z  1   HouseAge    20640 non-null  float64\n",
      "2022-07-15T14:50:55.346270844Z  2   AveRooms    20640 non-null  float64\n",
      "2022-07-15T14:50:55.346274663Z  3   AveBedrms   20640 non-null  float64\n",
      "2022-07-15T14:50:55.346277755Z  4   Population  20640 non-null  float64\n",
      "2022-07-15T14:50:55.346280993Z  5   AveOccup    20640 non-null  float64\n",
      "2022-07-15T14:50:55.346284017Z  6   Latitude    20640 non-null  float64\n",
      "2022-07-15T14:50:55.346287036Z  7   Longitude   20640 non-null  float64\n",
      "2022-07-15T14:50:55.346289999Z  8   Price       20640 non-null  float64\n",
      "2022-07-15T14:50:55.346293086Z dtypes: float64(9)\n",
      "2022-07-15T14:50:55.34629593Z memory usage: 1.4 MB\n",
      "2022-07-15T14:50:55.346299374Z ==================================================\n",
      "2022-07-15T14:50:55.346302253Z RMSE: 0.47390177839101205\n"
     ]
    }
   ],
   "source": [
    "client_lib.logs(\"lm-mpi-job-e94f9696-73d1-4324-9c63-ae860d965a86\", region='CCE-MT')"
   ]
  },
  {
   "cell_type": "markdown",
   "metadata": {
    "pycharm": {
     "name": "#%% md\n"
    }
   },
   "source": [
    "#### (ЕСЛИ НЕОБХОДИМО ПРЕРВАТЬ ЗАДАЧУ) Варианты остановки задачи"
   ]
  },
  {
   "cell_type": "code",
   "execution_count": 10,
   "metadata": {
    "pycharm": {
     "name": "#%%\n"
    }
   },
   "outputs": [
    {
     "data": {
      "text/plain": [
       "'Job \"lm-mpi-job-e94f9696-73d1-4324-9c63-ae860d965a86\" deleted'"
      ]
     },
     "execution_count": 10,
     "metadata": {},
     "output_type": "execute_result"
    }
   ],
   "source": [
    "cpu_job.kill()"
   ]
  },
  {
   "cell_type": "code",
   "execution_count": 11,
   "metadata": {
    "pycharm": {
     "name": "#%%\n"
    }
   },
   "outputs": [
    {
     "data": {
      "text/plain": [
       "'Job \"lm-mpi-job-e94f9696-73d1-4324-9c63-ae860d965a86\" deleted'"
      ]
     },
     "execution_count": 11,
     "metadata": {},
     "output_type": "execute_result"
    }
   ],
   "source": [
    "client_lib.kill('lm-mpi-job-e94f9696-73d1-4324-9c63-ae860d965a86')"
   ]
  },
  {
   "cell_type": "markdown",
   "metadata": {
    "pycharm": {
     "name": "#%% md\n"
    }
   },
   "source": [
    "# 4. Сохранение промежуточных результатов обучения модели"
   ]
  },
  {
   "cell_type": "markdown",
   "metadata": {
    "pycharm": {
     "name": "#%% md\n"
    }
   },
   "source": [
    "Если в процессе обучения модели пользователь сохраняет промежуточные результаты (checkpoints) обучения их можно скачать через веб-интерфейс Jupyter-ноутбука или скопировать из локально доступной файловой системы в хранилище S3. Внутри кода задачи обучения можно сохранять метрики модели с помощью mlflow (пример — в коде исполняемого файла `xgboost-boston-house-price.py`)."
   ]
  }
 ],
 "metadata": {
  "kernelspec": {
   "display_name": "Python 3 (ipykernel)",
   "language": "python",
   "name": "python3"
  },
  "language_info": {
   "codemirror_mode": {
    "name": "ipython",
    "version": 3
   },
   "file_extension": ".py",
   "mimetype": "text/x-python",
   "name": "python",
   "nbconvert_exporter": "python",
   "pygments_lexer": "ipython3",
   "version": "3.7.12"
  }
 },
 "nbformat": 4,
 "nbformat_minor": 4
}
