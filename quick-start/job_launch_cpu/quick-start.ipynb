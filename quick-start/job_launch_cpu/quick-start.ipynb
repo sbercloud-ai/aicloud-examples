{
 "cells": [
  {
   "cell_type": "markdown",
   "metadata": {
    "tags": []
   },
   "source": [
    "# 1. Подготовка"
   ]
  },
  {
   "cell_type": "markdown",
   "metadata": {},
   "source": [
    "Импортируем библиотеки."
   ]
  },
  {
   "cell_type": "code",
   "execution_count": 1,
   "metadata": {
    "tags": []
   },
   "outputs": [],
   "source": [
    "import requests\n",
    "import pathlib\n",
    "import client_lib # импортируем библиотеку для работы с ML Space"
   ]
  },
  {
   "cell_type": "markdown",
   "metadata": {
    "tags": []
   },
   "source": [
    "Устанавливаем переменные."
   ]
  },
  {
   "cell_type": "code",
   "execution_count": 2,
   "metadata": {
    "tags": []
   },
   "outputs": [
    {
     "name": "stdout",
     "output_type": "stream",
     "text": [
      "Working dir: /home/jovyan/aicloud-examples/quick-start/job_launch_cpu\n"
     ]
    }
   ],
   "source": [
    "BASE_DIR = str(pathlib.Path().absolute())\n",
    "print(f\"Working dir: {BASE_DIR}\")"
   ]
  },
  {
   "cell_type": "markdown",
   "metadata": {
    "tags": []
   },
   "source": [
    "# 2. Запуск задачи обучения"
   ]
  },
  {
   "cell_type": "markdown",
   "metadata": {},
   "source": [
    "Запускать задачу в регионе будем с помощью класса `client_lib.Job()`."
   ]
  },
  {
   "cell_type": "markdown",
   "metadata": {},
   "source": [
    "Обязательные параметры для запуска задачи обучения:\n",
    "- `script` – путь к запускаемому скрипту;\n",
    "- `base_image` – базовый образ, в котором будет исполняться скрипт обучения модели;\n",
    "- `instance_type` – конфигурация вычислительных ресурсов, используемых для решения задач.\n",
    "\n",
    "Подробное описание параметров – в [документации client_lib](https://cloud.ru/ru/docs/aicloud/mlspace/concepts/client-lib__job.html)."
   ]
  },
  {
   "cell_type": "markdown",
   "metadata": {},
   "source": [
    "По умолчанию задачи запускаются в регионе Christofari.V100. Чтобы запустить задачу в другом регионе, необходимо указать его в параметре `region`. \n",
    "\n",
    "См. [Список регионов и их обозначения в client_lib](https://cloud.ru/docs/aicloud/mlspace/concepts/client-lib__job.html#row-body-region).\n",
    "\n",
    "Для примера запустим задачу в регионе Cloud.Region.A100, обозначенном как `SR002-MT`."
   ]
  },
  {
   "cell_type": "markdown",
   "metadata": {},
   "source": [
    "Для масштабирования задачи доступны следующие параметры:\n",
    "\n",
    "- `n_workers` – количество рабочих узлов региона, на котором будет исполняться скрипт;\n",
    "- `instance_type` – конфигурация вычислительных ресурсов, используемых для решения задач.\n",
    "\n",
    "Для выбора значения параметра `instance_type` воспользуемся методом `get_instance_types()`.\n",
    "\n",
    "Выведем доступные конфигурациидля региона `SR003`."
   ]
  },
  {
   "cell_type": "code",
   "execution_count": 3,
   "metadata": {
    "tags": []
   },
   "outputs": [
    {
     "data": {
      "text/html": [
       "<pre style=\"white-space:pre;overflow-x:auto;line-height:normal;font-family:Menlo,'DejaVu Sans Mono',consolas,'Courier New',monospace\">┏━━━━━━━━┳━━━━━━━━━━━━━━━━━━━━━━━━━━━━━━┳━━━━━━━━┳━━━━━┳━━━━━┓\n",
       "┃<span style=\"font-weight: bold\"> region </span>┃<span style=\"font-weight: bold\"> instance_type                </span>┃<span style=\"font-weight: bold\"> memory </span>┃<span style=\"font-weight: bold\"> cpu </span>┃<span style=\"font-weight: bold\"> gpu </span>┃\n",
       "┡━━━━━━━━╇━━━━━━━━━━━━━━━━━━━━━━━━━━━━━━╇━━━━━━━━╇━━━━━╇━━━━━┩\n",
       "│ SR003  │ a100.1gpu                    │ 243Gi  │ 16  │ 1   │\n",
       "│ SR003  │ a100.2gpu                    │ 486Gi  │ 32  │ 2   │\n",
       "│ SR003  │ a100.3gpu                    │ 729Gi  │ 48  │ 3   │\n",
       "│ SR003  │ a100.4gpu                    │ 972Gi  │ 64  │ 4   │\n",
       "│ SR003  │ a100.5gpu                    │ 1215Gi │ 80  │ 5   │\n",
       "│ SR003  │ a100.6gpu                    │ 1458Gi │ 96  │ 6   │\n",
       "│ SR003  │ a100.7gpu                    │ 1701Gi │ 112 │ 7   │\n",
       "│ SR003  │ a100.8gpu                    │ 1944Gi │ 128 │ 8   │\n",
       "│ SR003  │ a100.1gpu.8C.243G            │ 243Gi  │ 8   │ 1   │\n",
       "│ SR003  │ a100.2gpu.16C.486G           │ 486Gi  │ 16  │ 2   │\n",
       "│ SR003  │ a100.3gpu.24C.729G           │ 729Gi  │ 24  │ 3   │\n",
       "│ SR003  │ a100.4gpu.32C.972G           │ 972Gi  │ 32  │ 4   │\n",
       "│ SR003  │ a100.5gpu.40C.1215G          │ 1215Gi │ 40  │ 5   │\n",
       "│ SR003  │ a100.6gpu.48C.1458G          │ 1458Gi │ 48  │ 6   │\n",
       "│ SR003  │ a100.7gpu.56C.1701G          │ 1701Gi │ 56  │ 7   │\n",
       "│ SR003  │ a100.8gpu.64C.1944G          │ 1944Gi │ 64  │ 8   │\n",
       "│ SR003  │ a100plus.1gpu.80vG.12C.182G  │ 182Gi  │ 12  │ 1   │\n",
       "│ SR003  │ a100plus.2gpu.80vG.24C.364G  │ 364Gi  │ 24  │ 2   │\n",
       "│ SR003  │ a100plus.3gpu.80vG.36C.546G  │ 546Gi  │ 36  │ 3   │\n",
       "│ SR003  │ a100plus.4gpu.80vG.48C.728G  │ 728Gi  │ 48  │ 4   │\n",
       "│ SR003  │ a100plus.5gpu.80vG.60C.910G  │ 910Gi  │ 60  │ 5   │\n",
       "│ SR003  │ a100plus.6gpu.80vG.72C.1092G │ 1092Gi │ 72  │ 6   │\n",
       "│ SR003  │ a100plus.7gpu.80vG.84C.1274G │ 1274Gi │ 84  │ 7   │\n",
       "│ SR003  │ a100plus.8gpu.80vG.96C.1456G │ 1456Gi │ 96  │ 8   │\n",
       "│ SR003  │ cpu.2C.8G                    │ 8Gi    │ 2   │ 0   │\n",
       "│ SR003  │ cpu.8C.32G                   │ 32Gi   │ 8   │ 0   │\n",
       "│ SR003  │ cpu.16C.64G                  │ 64Gi   │ 16  │ 0   │\n",
       "│ SR003  │ cpu.12C.48G                  │ 48Gi   │ 12  │ 0   │\n",
       "│ SR003  │ cpu-ai-3xgiant               │ 192Gi  │ 48  │ 0   │\n",
       "│ SR003  │ cpu-ai-2xgiant               │ 128Gi  │ 32  │ 0   │\n",
       "└────────┴──────────────────────────────┴────────┴─────┴─────┘\n",
       "</pre>\n"
      ],
      "text/plain": [
       "┏━━━━━━━━┳━━━━━━━━━━━━━━━━━━━━━━━━━━━━━━┳━━━━━━━━┳━━━━━┳━━━━━┓\n",
       "┃\u001b[1m \u001b[0m\u001b[1mregion\u001b[0m\u001b[1m \u001b[0m┃\u001b[1m \u001b[0m\u001b[1minstance_type               \u001b[0m\u001b[1m \u001b[0m┃\u001b[1m \u001b[0m\u001b[1mmemory\u001b[0m\u001b[1m \u001b[0m┃\u001b[1m \u001b[0m\u001b[1mcpu\u001b[0m\u001b[1m \u001b[0m┃\u001b[1m \u001b[0m\u001b[1mgpu\u001b[0m\u001b[1m \u001b[0m┃\n",
       "┡━━━━━━━━╇━━━━━━━━━━━━━━━━━━━━━━━━━━━━━━╇━━━━━━━━╇━━━━━╇━━━━━┩\n",
       "│ SR003  │ a100.1gpu                    │ 243Gi  │ 16  │ 1   │\n",
       "│ SR003  │ a100.2gpu                    │ 486Gi  │ 32  │ 2   │\n",
       "│ SR003  │ a100.3gpu                    │ 729Gi  │ 48  │ 3   │\n",
       "│ SR003  │ a100.4gpu                    │ 972Gi  │ 64  │ 4   │\n",
       "│ SR003  │ a100.5gpu                    │ 1215Gi │ 80  │ 5   │\n",
       "│ SR003  │ a100.6gpu                    │ 1458Gi │ 96  │ 6   │\n",
       "│ SR003  │ a100.7gpu                    │ 1701Gi │ 112 │ 7   │\n",
       "│ SR003  │ a100.8gpu                    │ 1944Gi │ 128 │ 8   │\n",
       "│ SR003  │ a100.1gpu.8C.243G            │ 243Gi  │ 8   │ 1   │\n",
       "│ SR003  │ a100.2gpu.16C.486G           │ 486Gi  │ 16  │ 2   │\n",
       "│ SR003  │ a100.3gpu.24C.729G           │ 729Gi  │ 24  │ 3   │\n",
       "│ SR003  │ a100.4gpu.32C.972G           │ 972Gi  │ 32  │ 4   │\n",
       "│ SR003  │ a100.5gpu.40C.1215G          │ 1215Gi │ 40  │ 5   │\n",
       "│ SR003  │ a100.6gpu.48C.1458G          │ 1458Gi │ 48  │ 6   │\n",
       "│ SR003  │ a100.7gpu.56C.1701G          │ 1701Gi │ 56  │ 7   │\n",
       "│ SR003  │ a100.8gpu.64C.1944G          │ 1944Gi │ 64  │ 8   │\n",
       "│ SR003  │ a100plus.1gpu.80vG.12C.182G  │ 182Gi  │ 12  │ 1   │\n",
       "│ SR003  │ a100plus.2gpu.80vG.24C.364G  │ 364Gi  │ 24  │ 2   │\n",
       "│ SR003  │ a100plus.3gpu.80vG.36C.546G  │ 546Gi  │ 36  │ 3   │\n",
       "│ SR003  │ a100plus.4gpu.80vG.48C.728G  │ 728Gi  │ 48  │ 4   │\n",
       "│ SR003  │ a100plus.5gpu.80vG.60C.910G  │ 910Gi  │ 60  │ 5   │\n",
       "│ SR003  │ a100plus.6gpu.80vG.72C.1092G │ 1092Gi │ 72  │ 6   │\n",
       "│ SR003  │ a100plus.7gpu.80vG.84C.1274G │ 1274Gi │ 84  │ 7   │\n",
       "│ SR003  │ a100plus.8gpu.80vG.96C.1456G │ 1456Gi │ 96  │ 8   │\n",
       "│ SR003  │ cpu.2C.8G                    │ 8Gi    │ 2   │ 0   │\n",
       "│ SR003  │ cpu.8C.32G                   │ 32Gi   │ 8   │ 0   │\n",
       "│ SR003  │ cpu.16C.64G                  │ 64Gi   │ 16  │ 0   │\n",
       "│ SR003  │ cpu.12C.48G                  │ 48Gi   │ 12  │ 0   │\n",
       "│ SR003  │ cpu-ai-3xgiant               │ 192Gi  │ 48  │ 0   │\n",
       "│ SR003  │ cpu-ai-2xgiant               │ 128Gi  │ 32  │ 0   │\n",
       "└────────┴──────────────────────────────┴────────┴─────┴─────┘\n"
      ]
     },
     "execution_count": 3,
     "metadata": {},
     "output_type": "execute_result"
    }
   ],
   "source": [
    "client_lib.get_instance_types(regions=\"SR003\")"
   ]
  },
  {
   "cell_type": "markdown",
   "metadata": {},
   "source": [
    "Для примера запустим задачу на 1 воркере с конфигурацией 32GB RAM и 8 CPU.\n",
    "\n",
    "Сохраним в переменные название региона, `instanse_type` и образа."
   ]
  },
  {
   "cell_type": "code",
   "execution_count": 33,
   "metadata": {},
   "outputs": [],
   "source": [
    "REGION = \"SR003\"\n",
    "INSTANCE_TYPE = \"cpu.8C.32G\"\n",
    "N_WORKERS = 1\n",
    "BASE_IMAGE = 'cr.ai.cloud.ru/aicloud-base-images/horovod-cuda10.0-tf1.15.0-pt1.3.0'"
   ]
  },
  {
   "cell_type": "code",
   "execution_count": 34,
   "metadata": {},
   "outputs": [],
   "source": [
    "job = client_lib.Job(\n",
    "    base_image=BASE_IMAGE,\n",
    "    script=f'{BASE_DIR}/xgboost-boston-house-price.py',\n",
    "    region=REGION,\n",
    "    instance_type=INSTANCE_TYPE,\n",
    "    n_workers=N_WORKERS,\n",
    "    type=\"pytorch2\",\n",
    "    processes_per_worker=1,\n",
    "    job_desc=\"pytorch2 | client_lib | use_env=False | CPU-job\",\n",
    ")\n"
   ]
  },
  {
   "cell_type": "markdown",
   "metadata": {},
   "source": [
    "Запустим задачу методом `submit()`."
   ]
  },
  {
   "cell_type": "code",
   "execution_count": 35,
   "metadata": {},
   "outputs": [
    {
     "data": {
      "text/plain": [
       "'Job \"lm-mpi-job-172804b7-72c5-40fd-ba76-29fe96648060\" created.'"
      ]
     },
     "execution_count": 35,
     "metadata": {},
     "output_type": "execute_result"
    }
   ],
   "source": [
    "job.submit()"
   ]
  },
  {
   "cell_type": "markdown",
   "metadata": {},
   "source": [
    "Для получения статуса задачи воспользуемся методом `status()`.\n",
    "\n",
    "См. [Список статусов задачи](https://cloud.ru/docs/aicloud/mlspace/concepts/guides/guides__env__common/environments__model-training__overview-statistics.html)."
   ]
  },
  {
   "cell_type": "code",
   "execution_count": 37,
   "metadata": {},
   "outputs": [
    {
     "data": {
      "text/plain": [
       "'Job status=Running'"
      ]
     },
     "execution_count": 37,
     "metadata": {},
     "output_type": "execute_result"
    }
   ],
   "source": [
    "job.status()"
   ]
  },
  {
   "cell_type": "markdown",
   "metadata": {},
   "source": [
    "Для просмотра логов задачи вызовем метод `logs()`.\n",
    "\n",
    "Логи будут доступны после запуска задачи, то есть ее перехода в статус \"Running\"."
   ]
  },
  {
   "cell_type": "code",
   "execution_count": 38,
   "metadata": {
    "scrolled": true
   },
   "outputs": [
    {
     "name": "stdout",
     "output_type": "stream",
     "text": [
      "2024-05-24T13:30:12.655223156Z Job lm-mpi-job-172804b7-72c5-40fd-ba76-29fe96648060 is starting...\n",
      "2024-05-24T13:30:12.726321310Z 🕒 Waiting for workers to be ready... 🕒\n",
      "2024-05-24T13:30:27.738773286Z Connecting to mpimaster-0 ..... Ready ✓\n",
      "2024-05-24T13:30:27.738798875Z 🚀 All workers are READY 🚀\n",
      "2024-05-24T13:30:28.929731014Z [1,0]<stdout>:Working dir: /home/jovyan\n",
      "2024-05-24T13:30:28.944478031Z [1,0]<stdout>:<class 'pandas.core.frame.DataFrame'>\n",
      "2024-05-24T13:30:28.944509359Z [1,0]<stdout>:RangeIndex: 20640 entries, 0 to 20639\n",
      "2024-05-24T13:30:28.944513341Z [1,0]<stdout>:Data columns (total 9 columns):\n",
      "2024-05-24T13:30:28.944515980Z [1,0]<stdout>: #   Column      Non-Null Count  Dtype  \n",
      "2024-05-24T13:30:28.944518558Z [1,0]<stdout>:---  ------      --------------  -----  \n",
      "2024-05-24T13:30:28.944521264Z [1,0]<stdout>: 0   MedInc      20640 non-null  float64\n",
      "2024-05-24T13:30:28.944523764Z [1,0]<stdout>: 1   HouseAge    20640 non-null  float64\n",
      "2024-05-24T13:30:28.944526440Z [1,0]<stdout>: 2   AveRooms    20640 non-null  float64\n",
      "2024-05-24T13:30:28.944528845Z [1,0]<stdout>: 3   AveBedrms   20640 non-null  float64\n",
      "2024-05-24T13:30:28.944531450Z [1,0]<stdout>: 4   Population  20640 non-null  float64\n",
      "2024-05-24T13:30:28.944533839Z [1,0]<stdout>: 5   AveOccup    20640 non-null  float64\n",
      "2024-05-24T13:30:28.944536208Z [1,0]<stdout>: 6   Latitude    20640 non-null  float64\n",
      "2024-05-24T13:30:28.944538722Z [1,0]<stdout>: 7   Longitude   20640 non-null  float64\n",
      "2024-05-24T13:30:28.944541058Z [1,0]<stdout>: 8   Price       20640 non-null  float64\n",
      "2024-05-24T13:30:28.944544347Z [1,0]<stdout>:dtypes: float64(9)\n",
      "2024-05-24T13:30:28.944546913Z [1,0]<stdout>:memory usage: 1.4 MB\n",
      "2024-05-24T13:30:36.473524330Z [1,0]<stdout>:==================================================\n",
      "2024-05-24T13:30:36.473556457Z [1,0]<stdout>:RMSE: 0.47390177839101205\n"
     ]
    }
   ],
   "source": [
    "job.logs()"
   ]
  },
  {
   "cell_type": "markdown",
   "metadata": {},
   "source": [
    "Задача завершится автоматически после выполнения скрипта. Если необходимо прервать выполнение задачи, используется методом `kill()`."
   ]
  },
  {
   "cell_type": "code",
   "execution_count": 32,
   "metadata": {},
   "outputs": [
    {
     "data": {
      "text/plain": [
       "'Job \"lm-mpi-job-7a81772c-1c88-4437-ad70-119c68f791cb\" deleted'"
      ]
     },
     "execution_count": 32,
     "metadata": {},
     "output_type": "execute_result"
    }
   ],
   "source": [
    "job.kill()"
   ]
  },
  {
   "cell_type": "markdown",
   "metadata": {
    "tags": []
   },
   "source": [
    "# 3. [Опционально] Сохранение промежуточных результатов обучения модели"
   ]
  },
  {
   "cell_type": "markdown",
   "metadata": {},
   "source": [
    "Если в процессе обучения модели вы сохраняете промежуточные результаты, или чекпоинты, обучения, они попадают в папку `./logs`. Их можно скачать через веб-интерфейс Jupyter-ноутбука или скопировать из локально доступной файловой системы в хранилище S3.\n",
    "\n",
    "Внутри кода задачи обучения можно сохранять метрики модели с помощью MLflow. Пример — в коде исполняемого файла `xgboost-boston-house-price.py`."
   ]
  }
 ],
 "metadata": {
  "kernelspec": {
   "display_name": "Python [conda env:base] *",
   "language": "python",
   "name": "conda-base-py"
  },
  "language_info": {
   "codemirror_mode": {
    "name": "ipython",
    "version": 3
   },
   "file_extension": ".py",
   "mimetype": "text/x-python",
   "name": "python",
   "nbconvert_exporter": "python",
   "pygments_lexer": "ipython3",
   "version": "3.11.8"
  }
 },
 "nbformat": 4,
 "nbformat_minor": 4
}
