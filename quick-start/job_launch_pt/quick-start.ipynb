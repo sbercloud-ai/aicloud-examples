{
 "cells": [
  {
   "cell_type": "markdown",
   "metadata": {
    "tags": []
   },
   "source": [
    "# 1. Подготовка"
   ]
  },
  {
   "cell_type": "markdown",
   "metadata": {},
   "source": [
    "Импортируем библиотеки."
   ]
  },
  {
   "cell_type": "code",
   "execution_count": 1,
   "metadata": {
    "tags": []
   },
   "outputs": [],
   "source": [
    "import requests\n",
    "import pathlib\n",
    "import client_lib # импортируем библиотеку для работы с ML Space"
   ]
  },
  {
   "cell_type": "markdown",
   "metadata": {
    "tags": []
   },
   "source": [
    "Устанавливаем переменные."
   ]
  },
  {
   "cell_type": "code",
   "execution_count": 2,
   "metadata": {
    "tags": []
   },
   "outputs": [
    {
     "name": "stdout",
     "output_type": "stream",
     "text": [
      "Working dir: /home/jovyan/aicloud-examples/quick-start/job_launch_pt\n"
     ]
    }
   ],
   "source": [
    "BASE_DIR = str(pathlib.Path().absolute())\n",
    "print(f\"Working dir: {BASE_DIR}\")"
   ]
  },
  {
   "cell_type": "markdown",
   "metadata": {
    "tags": []
   },
   "source": [
    "# 2. Запуск задачи обучения"
   ]
  },
  {
   "cell_type": "markdown",
   "metadata": {},
   "source": [
    "Запускать задачу в регионе будем с помощью класса `client_lib.Job()`."
   ]
  },
  {
   "cell_type": "markdown",
   "metadata": {},
   "source": [
    "Обязательные параметры для запуска задачи обучения:\n",
    "- `script` – путь к запускаемому скрипту;\n",
    "- `base_image` – базовый образ, в котором будет исполняться скрипт обучения модели;\n",
    "- `instance_type` – конфигурация вычислительных ресурсов, используемых для решения задач.\n",
    "\n",
    "Подробное описание параметров – в [документации client_lib](https://cloud.ru/ru/docs/aicloud/mlspace/concepts/client-lib__job.html)."
   ]
  },
  {
   "cell_type": "markdown",
   "metadata": {},
   "source": [
    "По умолчанию задачи запускаются в регионе Christofari.V100. Чтобы запустить задачу в другом регионе, необходимо указать его в параметре `region`. \n",
    "\n",
    "См. [Список регионов и их обозначения в client_lib](https://cloud.ru/docs/aicloud/mlspace/concepts/client-lib__job.html#row-body-region).\n",
    "\n",
    "Для примера запустим задачу в регионе Cloud.Region.A100, обозначенном как `SR002-MT`."
   ]
  },
  {
   "cell_type": "markdown",
   "metadata": {},
   "source": [
    "Для масштабирования задачи доступны следующие параметры:\n",
    "\n",
    "- `n_workers` – количество рабочих узлов региона, на котором будет исполняться скрипт;\n",
    "- `instance_type` – конфигурация вычислительных ресурсов, используемых для решения задач.\n",
    "\n",
    "Для выбора значения параметра `instance_type` воспользуемся методом `get_instance_types()`.\n",
    "\n",
    "Выведем значения `instance_type` и посмотрим, какие доступны для региона `SR002-MT`."
   ]
  },
  {
   "cell_type": "code",
   "execution_count": 3,
   "metadata": {
    "tags": []
   },
   "outputs": [
    {
     "data": {
      "text/html": [
       "<pre style=\"white-space:pre;overflow-x:auto;line-height:normal;font-family:Menlo,'DejaVu Sans Mono',consolas,'Courier New',monospace\">┏━━━━━━━━━━┳━━━━━━━━━━━━━━━━━━━━━━━━━┳━━━━━━━━┳━━━━━┳━━━━━┓\n",
       "┃<span style=\"font-weight: bold\"> region   </span>┃<span style=\"font-weight: bold\"> instance_type           </span>┃<span style=\"font-weight: bold\"> memory </span>┃<span style=\"font-weight: bold\"> cpu </span>┃<span style=\"font-weight: bold\"> gpu </span>┃\n",
       "┡━━━━━━━━━━╇━━━━━━━━━━━━━━━━━━━━━━━━━╇━━━━━━━━╇━━━━━╇━━━━━┩\n",
       "│ SR002-MT │ a100.1gpu.40            │ 230Gi  │ 12  │ 1   │\n",
       "│ SR002-MT │ a100.2gpu.40            │ 460Gi  │ 24  │ 2   │\n",
       "│ SR002-MT │ a100.3gpu.40            │ 690Gi  │ 36  │ 3   │\n",
       "│ SR002-MT │ a100.4gpu.40            │ 920Gi  │ 48  │ 4   │\n",
       "│ SR002-MT │ a100.1gpu.80vG.12C.96G  │ 80Gi   │ 10  │ 1   │\n",
       "│ SR002-MT │ a100.2gpu.80vG.24C.192G │ 160Gi  │ 20  │ 2   │\n",
       "│ SR002-MT │ a100.3gpu.80vG.36C.288G │ 240Gi  │ 30  │ 3   │\n",
       "│ SR002-MT │ a100.4gpu.80vG.48C.384G │ 320Gi  │ 40  │ 4   │\n",
       "│ SR002-MT │ a100.5gpu.80vG.60C.480G │ 400Gi  │ 50  │ 5   │\n",
       "│ SR002-MT │ a100.6gpu.80vG.72C.576G │ 480Gi  │ 60  │ 6   │\n",
       "│ SR002-MT │ a100.7gpu.80vG.84C.672G │ 560Gi  │ 70  │ 7   │\n",
       "│ SR002-MT │ a100.8gpu.80vG.96C.768G │ 640Gi  │ 80  │ 8   │\n",
       "└──────────┴─────────────────────────┴────────┴─────┴─────┘\n",
       "</pre>\n"
      ],
      "text/plain": [
       "┏━━━━━━━━━━┳━━━━━━━━━━━━━━━━━━━━━━━━━┳━━━━━━━━┳━━━━━┳━━━━━┓\n",
       "┃\u001b[1m \u001b[0m\u001b[1mregion  \u001b[0m\u001b[1m \u001b[0m┃\u001b[1m \u001b[0m\u001b[1minstance_type          \u001b[0m\u001b[1m \u001b[0m┃\u001b[1m \u001b[0m\u001b[1mmemory\u001b[0m\u001b[1m \u001b[0m┃\u001b[1m \u001b[0m\u001b[1mcpu\u001b[0m\u001b[1m \u001b[0m┃\u001b[1m \u001b[0m\u001b[1mgpu\u001b[0m\u001b[1m \u001b[0m┃\n",
       "┡━━━━━━━━━━╇━━━━━━━━━━━━━━━━━━━━━━━━━╇━━━━━━━━╇━━━━━╇━━━━━┩\n",
       "│ SR002-MT │ a100.1gpu.40            │ 230Gi  │ 12  │ 1   │\n",
       "│ SR002-MT │ a100.2gpu.40            │ 460Gi  │ 24  │ 2   │\n",
       "│ SR002-MT │ a100.3gpu.40            │ 690Gi  │ 36  │ 3   │\n",
       "│ SR002-MT │ a100.4gpu.40            │ 920Gi  │ 48  │ 4   │\n",
       "│ SR002-MT │ a100.1gpu.80vG.12C.96G  │ 80Gi   │ 10  │ 1   │\n",
       "│ SR002-MT │ a100.2gpu.80vG.24C.192G │ 160Gi  │ 20  │ 2   │\n",
       "│ SR002-MT │ a100.3gpu.80vG.36C.288G │ 240Gi  │ 30  │ 3   │\n",
       "│ SR002-MT │ a100.4gpu.80vG.48C.384G │ 320Gi  │ 40  │ 4   │\n",
       "│ SR002-MT │ a100.5gpu.80vG.60C.480G │ 400Gi  │ 50  │ 5   │\n",
       "│ SR002-MT │ a100.6gpu.80vG.72C.576G │ 480Gi  │ 60  │ 6   │\n",
       "│ SR002-MT │ a100.7gpu.80vG.84C.672G │ 560Gi  │ 70  │ 7   │\n",
       "│ SR002-MT │ a100.8gpu.80vG.96C.768G │ 640Gi  │ 80  │ 8   │\n",
       "└──────────┴─────────────────────────┴────────┴─────┴─────┘\n"
      ]
     },
     "execution_count": 3,
     "metadata": {},
     "output_type": "execute_result"
    }
   ],
   "source": [
    "client_lib.get_instance_types(regions=\"SR002-MT\")"
   ]
  },
  {
   "cell_type": "markdown",
   "metadata": {},
   "source": [
    "Для примера запустим задачу на 1 воркере с 1 GPU.\n",
    "\n",
    "Сохраним в переменные название региона, `instanse_type` и образа."
   ]
  },
  {
   "cell_type": "code",
   "execution_count": 4,
   "metadata": {},
   "outputs": [],
   "source": [
    "REGION = \"SR002-MT\"\n",
    "INSTANCE_TYPE = \"a100.1gpu.40\"\n",
    "N_WORKERS = 1\n",
    "BASE_IMAGE = \"cr.ai.cloud.ru/aicloud-base-images/cuda12.1-torch2-py39:0.0.36\""
   ]
  },
  {
   "cell_type": "code",
   "execution_count": 5,
   "metadata": {},
   "outputs": [],
   "source": [
    "job = client_lib.Job(\n",
    "    base_image=BASE_IMAGE,\n",
    "    script=f\"{BASE_DIR}/train_distributed_example-torch2.py\",\n",
    "    region=REGION,\n",
    "    instance_type=INSTANCE_TYPE,\n",
    "    n_workers=N_WORKERS,\n",
    "    type=\"pytorch2\",\n",
    "    processes_per_worker=1,\n",
    "    job_desc=\"pytorch2 | client_lib | use_env=False | torch2\",\n",
    ")\n"
   ]
  },
  {
   "cell_type": "markdown",
   "metadata": {},
   "source": [
    "Запустим задачу методом `submit()`."
   ]
  },
  {
   "cell_type": "code",
   "execution_count": 6,
   "metadata": {},
   "outputs": [
    {
     "data": {
      "text/plain": [
       "'Job \"lm-mpi-job-53fda410-5482-48b3-badf-c7f1b21135b0\" created.'"
      ]
     },
     "execution_count": 6,
     "metadata": {},
     "output_type": "execute_result"
    }
   ],
   "source": [
    "job.submit()"
   ]
  },
  {
   "cell_type": "markdown",
   "metadata": {},
   "source": [
    "Для получения статуса задачи воспользуемся методом `status()`.\n",
    "\n",
    "См. [Список статусов задачи](https://cloud.ru/docs/aicloud/mlspace/concepts/guides/guides__env__common/environments__model-training__overview-statistics.html)."
   ]
  },
  {
   "cell_type": "code",
   "execution_count": 7,
   "metadata": {},
   "outputs": [
    {
     "data": {
      "text/plain": [
       "'Job status=Pending'"
      ]
     },
     "execution_count": 7,
     "metadata": {},
     "output_type": "execute_result"
    }
   ],
   "source": [
    "job.status()"
   ]
  },
  {
   "cell_type": "markdown",
   "metadata": {},
   "source": [
    "Для просмотра логов задачи вызовем метод `logs()`.\n",
    "\n",
    "Логи будут доступны после запуска задачи, то есть ее перехода в статус \"Running\"."
   ]
  },
  {
   "cell_type": "code",
   "execution_count": 8,
   "metadata": {
    "scrolled": true
   },
   "outputs": [
    {
     "name": "stdout",
     "output_type": "stream",
     "text": [
      "\"Job lm-mpi-job-53fda410-5482-48b3-badf-c7f1b21135b0 in queue. Try later\"\n"
     ]
    }
   ],
   "source": [
    "job.logs()"
   ]
  },
  {
   "cell_type": "markdown",
   "metadata": {},
   "source": [
    "Задача завершится автоматически после выполнения скрипта. Если необходимо прервать выполнение задачи, используется методом `kill()`."
   ]
  },
  {
   "cell_type": "code",
   "execution_count": 9,
   "metadata": {},
   "outputs": [
    {
     "data": {
      "text/plain": [
       "'Job \"lm-mpi-job-53fda410-5482-48b3-badf-c7f1b21135b0\" deleted'"
      ]
     },
     "execution_count": 9,
     "metadata": {},
     "output_type": "execute_result"
    }
   ],
   "source": [
    "job.kill()"
   ]
  },
  {
   "cell_type": "markdown",
   "metadata": {
    "tags": []
   },
   "source": [
    "# 3. [Опционально] Сохранение промежуточных результатов обучения модели"
   ]
  },
  {
   "cell_type": "markdown",
   "metadata": {},
   "source": [
    "Если в процессе обучения модели вы сохраняете промежуточные результаты, или чекпоинты, обучения, они попадают в папку `./logs`. Их можно скачать через веб-интерфейс Jupyter-ноутбука или скопировать из локально доступной файловой системы в хранилище S3."
   ]
  },
  {
   "cell_type": "markdown",
   "metadata": {},
   "source": [
    "## Выгрузка результатов обучения модели с NFS на S3\n",
    "\n",
    "Для переноса файлов между NFS и S3 можно использовать [методы копирования client_lib](![image.png](attachment:image.png)) или [правила переноса Data Transfer Service](https://cloud.ru/ru/docs/aicloud/mlspace/concepts/guides/guides__dc/data-catalog__data-processing__create-transfer-rule.html)\n",
    "\n",
    "Рассмотрим копирование файлов из NFS на S3 воркспейса с помощью метода ```copy_from_nfs()```.\n",
    "\n"
   ]
  },
  {
   "cell_type": "code",
   "execution_count": 24,
   "metadata": {},
   "outputs": [
    {
     "data": {
      "text/plain": [
       "TransferData(id='a58d680a-e927-4320-9e6a-da988e88f740', created_transfer_data={'cluster_name': 'pd11', 'connector_id': '04930312-40ed-42d1-8d3a-ac510b0393d0', 'created': '2024-05-23T12:51:03.464797', 'description': 'Copy data from NFS. Called from jupyter client_lib', 'destination_connector_id': '0a30997d-b205-459e-9179-89d36a2ed0cf', 'destination_source_category': 's3mlspace', 'execution_date': None, 'modified': '2024-05-23T12:51:03.464797', 'name': 'from_nfs-c299f91f-b732-43dc-84c2-eeace305978c-04930312-40ed-42d1-8d3a-ac510b0393d0', 'query': {'destination': 'quck-start', 'source': ['aicloud-examples/quick-start/job_launch_pt/logs']}, 'source_category': 'nfs', 'strategy': 'write_all', 'system': False, 'transfer_id': 'a58d680a-e927-4320-9e6a-da988e88f740', 'user_id': '4439ac3b-035e-490a-8df6-aba5b32a7695', 'workspace_id': '04930312-40ed-42d1-8d3a-ac510b0393d0'})"
      ]
     },
     "execution_count": 24,
     "metadata": {},
     "output_type": "execute_result"
    }
   ],
   "source": [
    "relative_path = str(pathlib.Path().absolute().relative_to('/home/jovyan'))\n",
    "\n",
    "client_lib.copy_from_nfs(\n",
    "    source_path=f\"{relative_path}/logs/\", # укажем путь к папке logs без /home/jovyam \n",
    "    from_region=client_lib.RegionEnum.SR002_MT, # укажем регион, в нашем случае SR002-MT\n",
    "    destination_path=\"quck-start\" # укажем место назначения переноса\n",
    ")"
   ]
  },
  {
   "cell_type": "markdown",
   "metadata": {},
   "source": [
    "С помощью ID посмотрим логи переноса."
   ]
  },
  {
   "cell_type": "code",
   "execution_count": null,
   "metadata": {},
   "outputs": [],
   "source": [
    "client_lib.get_transfer_data_logs(\"3ebe26ec-1d6f-4797-926e-642f1fcbe12f\") # id переноса берём из вывода предыдущей ячейки"
   ]
  },
  {
   "cell_type": "markdown",
   "metadata": {},
   "source": [
    "В результате мы перенесли папку logs в S3 воркспейса в папку quick-start.\n",
    "\n",
    "Чтобы проверить наличие файлов на S3, необходимо в разделе \"Data Catalog\" -> \"Объектное Хранилище\" выбрать бакет воркспейса с публичным доступом."
   ]
  }
 ],
 "metadata": {
  "kernelspec": {
   "display_name": "Python [conda env:base] *",
   "language": "python",
   "name": "conda-base-py"
  },
  "language_info": {
   "codemirror_mode": {
    "name": "ipython",
    "version": 3
   },
   "file_extension": ".py",
   "mimetype": "text/x-python",
   "name": "python",
   "nbconvert_exporter": "python",
   "pygments_lexer": "ipython3",
   "version": "3.11.8"
  }
 },
 "nbformat": 4,
 "nbformat_minor": 4
}
