{
 "cells": [
  {
   "cell_type": "markdown",
   "id": "bfe00149",
   "metadata": {},
   "source": [
    "# Обучение модели на PyTorch Distributed Data Parallel с помощью client_lib\n",
    "\n",
    "Ноутбук можно запустить на платформе ML Space, [создав Jupyter Server](https://cloud.ru/docs/aicloud/mlspace/concepts/guides/guides__jupyter/environments__environments__jupyter-server__create-new-jupyter-server.html).\n",
    "\n",
    "Подробнее о работе с `client_lib` — в [пользовательской документации](https://cloud.ru/ru/docs/aicloud/mlspace/concepts/client-lib.html)."
   ]
  },
  {
   "cell_type": "code",
   "execution_count": 1,
   "id": "230924a8-29d3-4890-a331-2c0939561707",
   "metadata": {},
   "outputs": [
    {
     "name": "stdout",
     "output_type": "stream",
     "text": [
      "Working dir: /home/jovyan/ddp_quick_start\n"
     ]
    }
   ],
   "source": [
    "import client_lib\n",
    "import pathlib\n",
    "\n",
    "BASE_DIR = pathlib.Path().absolute()\n",
    "print(f\"Working dir: {BASE_DIR}\")"
   ]
  },
  {
   "cell_type": "code",
   "execution_count": null,
   "id": "8223f698-bbfd-46b6-9727-b032755f47d8",
   "metadata": {},
   "outputs": [],
   "source": [
    "REGION = \"SR002-MT\"\n",
    "INSTANCE_TYPE = \"a100.1gpu.40\"\n",
    "\n",
    "job_run = client_lib.Job(\n",
    "    base_image=\"cr.ai.cloud.ru/aicloud-base-images/py3.10-torch2.2.2:0.0.40\",\n",
    "    script=f\"{BASE_DIR}/train_distributed_example.py\",\n",
    "    region=f\"{REGION}\",\n",
    "    instance_type=f\"{INSTANCE_TYPE}\",\n",
    "    type=\"pytorch2\",\n",
    "    n_workers=1,\n",
    "    pytorch_use_env=True,\n",
    ")"
   ]
  },
  {
   "cell_type": "code",
   "execution_count": null,
   "id": "27901c4a-e2ce-469e-89e1-9762a872f2e2",
   "metadata": {},
   "outputs": [
    {
     "data": {
      "text/plain": [
       "'Job \"lm-mpi-job-360e63b4-8249-4c54-a5b6-842a3c47922a\" created.'"
      ]
     },
     "execution_count": 3,
     "metadata": {},
     "output_type": "execute_result"
    }
   ],
   "source": [
    "job_run.submit()"
   ]
  },
  {
   "cell_type": "code",
   "execution_count": null,
   "id": "2f4b610d-666e-4bba-8c95-8a4d712c4c26",
   "metadata": {},
   "outputs": [
    {
     "data": {
      "text/plain": [
       "'Job status=Running'"
      ]
     },
     "execution_count": 6,
     "metadata": {},
     "output_type": "execute_result"
    }
   ],
   "source": [
    "job_run.status()"
   ]
  },
  {
   "cell_type": "code",
   "execution_count": null,
   "id": "b384dbde-c3f0-482a-83c6-e74c328ac614",
   "metadata": {
    "scrolled": true
   },
   "outputs": [
    {
     "name": "stdout",
     "output_type": "stream",
     "text": [
      "2024-07-18T18:59:37.477713226Z Job lm-mpi-job-360e63b4-8249-4c54-a5b6-842a3c47922a (pytorch2) is starting...\n",
      "2024-07-18T18:59:37.559228633Z 🕒 Waiting for workers to be ready... 🕒\n",
      "2024-07-18T18:59:52.574615419Z Connecting to mpimaster-0 ..... Ready ✓\n",
      "2024-07-18T18:59:52.574631483Z 🚀 All workers are READY 🚀\n",
      "2024-07-18T18:59:53.828268991Z [1,0]<stderr>:/home/user/conda/lib/python3.10/site-packages/torch/distributed/launch.py:183: FutureWarning: The module torch.distributed.launch is deprecated\n",
      "2024-07-18T18:59:53.828301020Z [1,0]<stderr>:and will be removed in future. Use torchrun.\n",
      "2024-07-18T18:59:53.828304438Z [1,0]<stderr>:Note that --use-env is set by default in torchrun.\n",
      "2024-07-18T18:59:53.828307497Z [1,0]<stderr>:If your script expects `--local-rank` argument to be set, please\n",
      "2024-07-18T18:59:53.828310561Z [1,0]<stderr>:change it to read from `os.environ['LOCAL_RANK']` instead. See \n",
      "2024-07-18T18:59:53.828313762Z [1,0]<stderr>:https://pytorch.org/docs/stable/distributed.html#launch-utility for \n",
      "2024-07-18T18:59:53.828316817Z [1,0]<stderr>:further instructions\n",
      "2024-07-18T18:59:53.828319651Z [1,0]<stderr>:\n",
      "2024-07-18T18:59:53.828322546Z [1,0]<stderr>:  warnings.warn(\n",
      "2024-07-18T19:01:28.165773608Z [1,0]<stderr>:\n",
      "Downloading shards:   0%|          | 0/2 [00:00<?, ?it/s][1,0]<stderr>:\n",
      "Downloading shards:  50%|█████     | 1/2 [01:01<01:01, 61.86s/it][1,0]<stderr>:\n",
      "Downloading shards: 100%|██████████| 2/2 [01:30<00:00, 42.13s/it][1,0]<stderr>:\n",
      "Downloading shards: 100%|██████████| 2/2 [01:30<00:00, 45.09s/it]\n",
      "2024-07-18T19:01:31.430402966Z [1,0]<stderr>:\n",
      "Loading checkpoint shards:   0%|          | 0/2 [00:00<?, ?it/s][1,0]<stderr>:\n",
      "Loading checkpoint shards:  50%|█████     | 1/2 [00:01<00:01,  1.89s/it][1,0]<stderr>:\n",
      "Loading checkpoint shards: 100%|██████████| 2/2 [00:02<00:00,  1.25s/it][1,0]<stderr>:\n",
      "Loading checkpoint shards: 100%|██████████| 2/2 [00:02<00:00,  1.34s/it]\n",
      "2024-07-18T19:01:34.297440804Z [1,0]<stdout>:local rank = 0, rank = 0\n",
      "2024-07-18T19:01:34.314833264Z [1,0]<stdout>:lm-mpi-job-360e63b4-8249-4c54-a5b6-842a3c47922a-mpimaster-0:133:133 [0] NCCL INFO Bootstrap : Using eth0:10.232.32.253<0>\n",
      "2024-07-18T19:01:34.361512801Z [1,0]<stdout>:lm-mpi-job-360e63b4-8249-4c54-a5b6-842a3c47922a-mpimaster-0:133:133 [0] NCCL INFO cudaDriverVersion 12030\n",
      "2024-07-18T19:01:34.361535928Z [1,0]<stdout>:NCCL version 2.19.3+cuda12.3\n",
      "2024-07-18T19:01:34.632268633Z [1,0]<stdout>:lm-mpi-job-360e63b4-8249-4c54-a5b6-842a3c47922a-mpimaster-0:133:270 [0] NCCL INFO Plugin Path : /opt/hpcx/nccl_rdma_sharp_plugin/lib/libnccl-net.so\n",
      "2024-07-18T19:01:34.632292160Z [1,0]<stdout>:lm-mpi-job-360e63b4-8249-4c54-a5b6-842a3c47922a-mpimaster-0:133:270 [0] NCCL INFO P2P plugin IBext_v7\n",
      "2024-07-18T19:01:34.837939105Z [1,0]<stdout>:lm-mpi-job-360e63b4-8249-4c54-a5b6-842a3c47922a-mpimaster-0:133:270 [0] NCCL INFO NET/IB : Using [0]mlx5_0:1/IB/SHARP [1]mlx5_2:1/IB/SHARP [2]mlx5_4:1/IB/SHARP [3]mlx5_8:1/IB/SHARP [4]mlx5_10:1/IB/SHARP [5]mlx5_12:1/IB/SHARP [6]mlx5_14:1/IB/SHARP [7]mlx5_18:1/IB/SHARP [RO]; OOB eth0:10.232.32.253<0>\n",
      "2024-07-18T19:01:34.838141585Z [1,0]<stdout>:lm-mpi-job-360e63b4-8249-4c54-a5b6-842a3c47922a-mpimaster-0:133:270 [0] NCCL INFO Using non-device net plugin version 0\n",
      "2024-07-18T19:01:34.838157501Z [1,0]<stdout>:lm-mpi-job-360e63b4-8249-4c54-a5b6-842a3c47922a-mpimaster-0:133:270 [0] NCCL INFO Using network IBext_v7\n",
      "2024-07-18T19:01:34.839979170Z [1,0]<stdout>:lm-mpi-job-360e63b4-8249-4c54-a5b6-842a3c47922a-mpimaster-0:133:270 [0] NCCL INFO comm 0xf72d340 rank 0 nranks 1 cudaDev 0 nvmlDev 0 busId e4000 commId 0xf4fd1f810aefced6 - Init START\n",
      "2024-07-18T19:01:34.999661822Z [1,0]<stdout>:lm-mpi-job-360e63b4-8249-4c54-a5b6-842a3c47922a-mpimaster-0:133:270 [0] NCCL INFO Setting affinity for GPU 0 to ffff,00000000,0000ffff,00000000\n",
      "2024-07-18T19:01:35.000048645Z [1,0]<stdout>:lm-mpi-job-360e63b4-8249-4c54-a5b6-842a3c47922a-mpimaster-0:133:270 [0] NCCL INFO Channel 00/32 :    0\n",
      "2024-07-18T19:01:35.000057236Z [1,0]<stdout>:lm-mpi-job-360e63b4-8249-4c54-a5b6-842a3c47922a-mpimaster-0:133:270 [0] NCCL INFO Channel 01/32 :    0\n",
      "2024-07-18T19:01:35.000061724Z [1,0]<stdout>:lm-mpi-job-360e63b4-8249-4c54-a5b6-842a3c47922a-mpimaster-0:133:270 [0] NCCL INFO Channel 02/32 :    0\n",
      "2024-07-18T19:01:35.000064927Z [1,0]<stdout>:lm-mpi-job-360e63b4-8249-4c54-a5b6-842a3c47922a-mpimaster-0:133:270 [0] NCCL INFO Channel 03/32 :    0\n",
      "2024-07-18T19:01:35.000068905Z [1,0]<stdout>:lm-mpi-job-360e63b4-8249-4c54-a5b6-842a3c47922a-mpimaster-0:133:270 [0] NCCL INFO Channel 04/32 :    0\n",
      "2024-07-18T19:01:35.000072359Z [1,0]<stdout>:lm-mpi-job-360e63b4-8249-4c54-a5b6-842a3c47922a-mpimaster-0:133:270 [0] NCCL INFO Channel 05/32 :    0\n",
      "2024-07-18T19:01:35.000082921Z [1,0]<stdout>:lm-mpi-job-360e63b4-8249-4c54-a5b6-842a3c47922a-mpimaster-0:133:270 [0] NCCL INFO Channel 06/32 :    0\n",
      "2024-07-18T19:01:35.000087960Z [1,0]<stdout>:lm-mpi-job-360e63b4-8249-4c54-a5b6-842a3c47922a-mpimaster-0:133:270 [0] NCCL INFO Channel 07/32 :    0\n",
      "2024-07-18T19:01:35.000091430Z [1,0]<stdout>:lm-mpi-job-360e63b4-8249-4c54-a5b6-842a3c47922a-mpimaster-0:133:270 [0] NCCL INFO Channel 08/32 :    0\n",
      "2024-07-18T19:01:35.000095015Z [1,0]<stdout>:lm-mpi-job-360e63b4-8249-4c54-a5b6-842a3c47922a-mpimaster-0:133:270 [0] NCCL INFO Channel 09/32 :    0\n",
      "2024-07-18T19:01:35.000098857Z [1,0]<stdout>:lm-mpi-job-360e63b4-8249-4c54-a5b6-842a3c47922a-mpimaster-0:133:270 [0] NCCL INFO Channel 10/32 :    0\n",
      "2024-07-18T19:01:35.000102191Z [1,0]<stdout>:lm-mpi-job-360e63b4-8249-4c54-a5b6-842a3c47922a-mpimaster-0:133:270 [0] NCCL INFO Channel 11/32 :    0\n",
      "2024-07-18T19:01:35.000105258Z [1,0]<stdout>:lm-mpi-job-360e63b4-8249-4c54-a5b6-842a3c47922a-mpimaster-0:133:270 [0] NCCL INFO Channel 12/32 :    0\n",
      "2024-07-18T19:01:35.000108359Z [1,0]<stdout>:lm-mpi-job-360e63b4-8249-4c54-a5b6-842a3c47922a-mpimaster-0:133:270 [0] NCCL INFO Channel 13/32 :    0\n",
      "2024-07-18T19:01:35.000111786Z [1,0]<stdout>:lm-mpi-job-360e63b4-8249-4c54-a5b6-842a3c47922a-mpimaster-0:133:270 [0] NCCL INFO Channel 14/32 :    0\n",
      "2024-07-18T19:01:35.000115111Z [1,0]<stdout>:lm-mpi-job-360e63b4-8249-4c54-a5b6-842a3c47922a-mpimaster-0:133:270 [0] NCCL INFO Channel 15/32 :    0\n",
      "2024-07-18T19:01:35.000118369Z [1,0]<stdout>:lm-mpi-job-360e63b4-8249-4c54-a5b6-842a3c47922a-mpimaster-0:133:270 [0] NCCL INFO Channel 16/32 :    0\n",
      "2024-07-18T19:01:35.000121440Z [1,0]<stdout>:lm-mpi-job-360e63b4-8249-4c54-a5b6-842a3c47922a-mpimaster-0:133:270 [0] NCCL INFO Channel 17/32 :    0\n",
      "2024-07-18T19:01:35.000124388Z [1,0]<stdout>:lm-mpi-job-360e63b4-8249-4c54-a5b6-842a3c47922a-mpimaster-0:133:270 [0] NCCL INFO Channel 18/32 :    0\n",
      "2024-07-18T19:01:35.000128369Z [1,0]<stdout>:lm-mpi-job-360e63b4-8249-4c54-a5b6-842a3c47922a-mpimaster-0:133:270 [0] NCCL INFO Channel 19/32 :    0\n",
      "2024-07-18T19:01:35.000131707Z [1,0]<stdout>:lm-mpi-job-360e63b4-8249-4c54-a5b6-842a3c47922a-mpimaster-0:133:270 [0] NCCL INFO Channel 20/32 :    0\n",
      "2024-07-18T19:01:35.000134745Z [1,0]<stdout>:lm-mpi-job-360e63b4-8249-4c54-a5b6-842a3c47922a-mpimaster-0:133:270 [0] NCCL INFO Channel 21/32 :    0\n",
      "2024-07-18T19:01:35.000138171Z [1,0]<stdout>:lm-mpi-job-360e63b4-8249-4c54-a5b6-842a3c47922a-mpimaster-0:133:270 [0] NCCL INFO Channel 22/32 :    0\n",
      "2024-07-18T19:01:35.000141303Z [1,0]<stdout>:lm-mpi-job-360e63b4-8249-4c54-a5b6-842a3c47922a-mpimaster-0:133:270 [0] NCCL INFO Channel 23/32 :    0\n",
      "2024-07-18T19:01:35.000145542Z [1,0]<stdout>:lm-mpi-job-360e63b4-8249-4c54-a5b6-842a3c47922a-mpimaster-0:133:270 [0] NCCL INFO Channel 24/32 :    0\n",
      "2024-07-18T19:01:35.000148795Z [1,0]<stdout>:lm-mpi-job-360e63b4-8249-4c54-a5b6-842a3c47922a-mpimaster-0:133:270 [0] NCCL INFO Channel 25/32 :    0\n",
      "2024-07-18T19:01:35.000158140Z [1,0]<stdout>:lm-mpi-job-360e63b4-8249-4c54-a5b6-842a3c47922a-mpimaster-0:133:270 [0] NCCL INFO Channel 26/32 :    0\n",
      "2024-07-18T19:01:35.000161136Z [1,0]<stdout>:lm-mpi-job-360e63b4-8249-4c54-a5b6-842a3c47922a-mpimaster-0:133:270 [0] NCCL INFO Channel 27/32 :    0\n",
      "2024-07-18T19:01:35.000164004Z [1,0]<stdout>:lm-mpi-job-360e63b4-8249-4c54-a5b6-842a3c47922a-mpimaster-0:133:270 [0] NCCL INFO Channel 28/32 :    0\n",
      "2024-07-18T19:01:35.000166896Z [1,0]<stdout>:lm-mpi-job-360e63b4-8249-4c54-a5b6-842a3c47922a-mpimaster-0:133:270 [0] NCCL INFO Channel 29/32 :    0\n",
      "2024-07-18T19:01:35.000170828Z [1,0]<stdout>:lm-mpi-job-360e63b4-8249-4c54-a5b6-842a3c47922a-mpimaster-0:133:270 [0] NCCL INFO Channel 30/32 :    0\n",
      "2024-07-18T19:01:35.000173768Z [1,0]<stdout>:lm-mpi-job-360e63b4-8249-4c54-a5b6-842a3c47922a-mpimaster-0:133:270 [0] NCCL INFO Channel 31/32 :    0\n",
      "2024-07-18T19:01:35.000178340Z [1,0]<stdout>:lm-mpi-job-360e63b4-8249-4c54-a5b6-842a3c47922a-mpimaster-0:133:270 [0] NCCL INFO Trees [0] -1/-1/-1->0->-1 [1] -1/-1/-1->0->-1 [2] -1/-1/-1->0->-1 [3] -1/-1/-1->0->-1 [4] -1/-1/-1->0->-1 [5] -1/-1/-1->0->-1 [6] -1/-1/-1->0->-1 [7] -1/-1/-1->0->-1 [8] -1/-1/-1->0->-1 [9] -1/-1/-1->0->-1 [10] -1/-1/-1->0->-1 [11] -1/-1/-1->0->-1 [12] -1/-1/-1->0->-1 [13] -1/-1/-1->0->-1 [14] -1/-1/-1->0->-1 [15] -1/-1/-1->0->-1 [16] -1/-1/-1->0->-1 [17] -1/-1/-1->0->-1 [18] -1/-1/-1->0->-1 [19] -1/-1/-1->0->-1 [20] -1/-1/-1->0->-1 [21] -1/-1/-1->0->-1 [22] -1/-1/-1->0->-1 [23] -1/-1/-1->0->-1 [24] -1/-1/-1->0->-1 [25] -1/-1/-1->0->-1 [26] -1/-1/-1->0->-1 [27] -1/-1/-1->0->-1 [28] -1/-1/-1->0->-1 [29] -1/-1/-1->0->-1 [30] -1/-1/-1->0->-1 [31] -1/-1/-1->0->-1\n",
      "2024-07-18T19:01:35.000185707Z [1,0]<stdout>:lm-mpi-job-360e63b4-8249-4c54-a5b6-842a3c47922a-mpimaster-0:133:270 [0] NCCL INFO P2P Chunksize set to 131072\n",
      "2024-07-18T19:01:35.008324517Z [1,0]<stdout>:lm-mpi-job-360e63b4-8249-4c54-a5b6-842a3c47922a-mpimaster-0:133:270 [0] NCCL INFO Connected all rings\n",
      "2024-07-18T19:01:35.008336499Z [1,0]<stdout>:lm-mpi-job-360e63b4-8249-4c54-a5b6-842a3c47922a-mpimaster-0:133:270 [0] NCCL INFO Connected all trees\n",
      "2024-07-18T19:01:35.008341388Z [1,0]<stdout>:lm-mpi-job-360e63b4-8249-4c54-a5b6-842a3c47922a-mpimaster-0:133:270 [0] NCCL INFO 32 coll channels, 0 nvls channels, 32 p2p channels, 32 p2p channels per peer\n",
      "2024-07-18T19:01:35.024610689Z [1,0]<stdout>:lm-mpi-job-360e63b4-8249-4c54-a5b6-842a3c47922a-mpimaster-0:133:270 [0] NCCL INFO comm 0xf72d340 rank 0 nranks 1 cudaDev 0 nvmlDev 0 busId e4000 commId 0xf4fd1f810aefced6 - Init COMPLETE\n",
      "2024-07-18T19:01:36.459492406Z [1,0]<stderr>:\n",
      "Downloading readme:   0%|          | 0.00/26.0 [00:00<?, ?B/s][1,0]<stderr>:\n",
      "Downloading readme: 100%|██████████| 26.0/26.0 [00:00<00:00, 278kB/s]\n",
      "2024-07-18T19:01:38.706108834Z [1,0]<stderr>:\n",
      "Downloading data:   0%|          | 0.00/77.2k [00:00<?, ?B/s][1,0]<stderr>:\n",
      "Downloading data: 100%|██████████| 77.2k/77.2k [00:00<00:00, 298kB/s][1,0]<stderr>:\n",
      "Downloading data: 100%|██████████| 77.2k/77.2k [00:00<00:00, 298kB/s]\n",
      "2024-07-18T19:01:38.714806445Z [1,0]<stderr>:\n",
      "Generating train split:   0%|          | 0/289 [00:00<?, ? examples/s][1,0]<stderr>:\n",
      "Generating train split: 100%|██████████| 289/289 [00:00<00:00, 45776.20 examples/s]\n",
      "2024-07-18T19:01:38.739805010Z [1,0]<stderr>:\n",
      "Map:   0%|          | 0/289 [00:00<?, ? examples/s][1,0]<stderr>:Asking to truncate to max_length but no maximum length is provided and the model has no predefined maximum length. Default to no truncation.\n",
      "2024-07-18T19:01:38.807567398Z [1,0]<stderr>:\n",
      "Map: 100%|██████████| 289/289 [00:00<00:00, 4220.71 examples/s]\n",
      "2024-07-18T19:01:39.539510642Z [1,0]<stderr>:\n",
      "  0%|          | 0/360 [00:00<?, ?it/s][1,0]<stderr>:`use_cache=True` is incompatible with gradient checkpointing. Setting `use_cache=False`...\n",
      "2024-07-18T19:01:39.716201190Z [1,0]<stderr>:/home/user/conda/lib/python3.10/site-packages/torch/utils/checkpoint.py:460: UserWarning: torch.utils.checkpoint: please pass in use_reentrant=True or use_reentrant=False explicitly. The default value of use_reentrant will be updated to be False in the future. To maintain current behavior, pass use_reentrant=True. It is recommended that you use use_reentrant=False. Refer to docs for more details on the differences between the two variants.\n",
      "2024-07-18T19:01:39.716227691Z [1,0]<stderr>:  warnings.warn(\n",
      "2024-07-18T19:01:42.302694493Z [1,0]<stdout>:{'loss': 4.4566, 'grad_norm': nan, 'learning_rate': 0.0, 'epoch': 0.03}\n",
      "2024-07-18T19:01:44.330993540Z [1,0]<stdout>:{'loss': 4.1164, 'grad_norm': nan, 'learning_rate': 0.0, 'epoch': 0.06}\n",
      "2024-07-18T19:01:46.380003268Z [1,0]<stdout>:{'loss': 4.172, 'grad_norm': 18.0616455078125, 'learning_rate': 1.1111111111111112e-05, 'epoch': 0.08}\n",
      "2024-07-18T19:01:48.417014506Z [1,0]<stdout>:{'loss': 4.2654, 'grad_norm': 22.263654708862305, 'learning_rate': 2.2222222222222223e-05, 'epoch': 0.11}\n",
      "2024-07-18T19:01:50.446699678Z [1,0]<stdout>:{'loss': 3.7919, 'grad_norm': 19.02649688720703, 'learning_rate': 3.3333333333333335e-05, 'epoch': 0.14}\n",
      "2024-07-18T19:01:52.472701760Z [1,0]<stdout>:{'loss': 3.8299, 'grad_norm': 11.954000473022461, 'learning_rate': 4.4444444444444447e-05, 'epoch': 0.17}\n",
      "2024-07-18T19:01:54.495968683Z [1,0]<stdout>:{'loss': 3.7317, 'grad_norm': 9.893208503723145, 'learning_rate': 5.555555555555556e-05, 'epoch': 0.19}\n",
      "2024-07-18T19:01:56.526102866Z [1,0]<stdout>:{'loss': 3.6787, 'grad_norm': 9.818575859069824, 'learning_rate': 6.666666666666667e-05, 'epoch': 0.22}\n",
      "2024-07-18T19:01:58.555350782Z [1,0]<stdout>:{'loss': 3.4625, 'grad_norm': 8.849515914916992, 'learning_rate': 7.777777777777778e-05, 'epoch': 0.25}\n",
      "2024-07-18T19:02:00.581245364Z [1,0]<stdout>:{'loss': 3.074, 'grad_norm': 7.362694263458252, 'learning_rate': 8.888888888888889e-05, 'epoch': 0.28}\n",
      "2024-07-18T19:02:02.601518581Z [1,0]<stdout>:{'loss': 3.1145, 'grad_norm': 7.5798540115356445, 'learning_rate': 0.0001, 'epoch': 0.3}\n",
      "2024-07-18T19:02:04.630597196Z [1,0]<stdout>:{'loss': 2.9133, 'grad_norm': 5.455348491668701, 'learning_rate': 0.00011111111111111112, 'epoch': 0.33}\n",
      "2024-07-18T19:02:06.664249794Z [1,0]<stdout>:{'loss': 2.6198, 'grad_norm': 5.7159199714660645, 'learning_rate': 0.00012222222222222224, 'epoch': 0.36}\n",
      "2024-07-18T19:02:08.690426497Z [1,0]<stdout>:{'loss': 2.7002, 'grad_norm': 5.531435012817383, 'learning_rate': 0.00013333333333333334, 'epoch': 0.39}\n",
      "2024-07-18T19:02:10.722440165Z [1,0]<stdout>:{'loss': 2.639, 'grad_norm': 5.032409191131592, 'learning_rate': 0.00014444444444444444, 'epoch': 0.42}\n",
      "2024-07-18T19:02:12.756407061Z [1,0]<stdout>:{'loss': 2.5211, 'grad_norm': 4.385463237762451, 'learning_rate': 0.00015555555555555556, 'epoch': 0.44}\n",
      "2024-07-18T19:02:14.793841275Z [1,0]<stdout>:{'loss': 2.3, 'grad_norm': 5.312892913818359, 'learning_rate': 0.0001666666666666667, 'epoch': 0.47}\n",
      "2024-07-18T19:02:16.820186840Z [1,0]<stdout>:{'loss': 2.1563, 'grad_norm': 5.811401844024658, 'learning_rate': 0.00017777777777777779, 'epoch': 0.5}\n",
      "2024-07-18T19:02:18.853214224Z [1,0]<stdout>:{'loss': 2.0846, 'grad_norm': 6.172084331512451, 'learning_rate': 0.00018888888888888888, 'epoch': 0.53}\n",
      "2024-07-18T19:02:20.881779442Z [1,0]<stdout>:{'loss': 1.909, 'grad_norm': 6.727512359619141, 'learning_rate': 0.0002, 'epoch': 0.55}\n",
      "2024-07-18T19:02:22.925763212Z [1,0]<stdout>:{'loss': 2.0072, 'grad_norm': 3.7951111793518066, 'learning_rate': 0.00019999578095183124, 'epoch': 0.58}\n",
      "2024-07-18T19:02:24.964754015Z [1,0]<stdout>:{'loss': 2.1513, 'grad_norm': 4.189855575561523, 'learning_rate': 0.00019998312416333227, 'epoch': 0.61}\n",
      "2024-07-18T19:02:26.994162871Z [1,0]<stdout>:{'loss': 1.9253, 'grad_norm': 3.8216402530670166, 'learning_rate': 0.00019996203070249516, 'epoch': 0.64}\n",
      "2024-07-18T19:02:29.026379540Z [1,0]<stdout>:{'loss': 2.7006, 'grad_norm': 4.433011054992676, 'learning_rate': 0.00019993250234920636, 'epoch': 0.66}\n",
      "2024-07-18T19:02:31.053809317Z [1,0]<stdout>:{'loss': 1.9503, 'grad_norm': 4.175185680389404, 'learning_rate': 0.0001998945415950969, 'epoch': 0.69}\n",
      "2024-07-18T19:02:33.083412873Z [1,0]<stdout>:{'loss': 1.8031, 'grad_norm': 3.7799603939056396, 'learning_rate': 0.00019984815164333163, 'epoch': 0.72}\n",
      "2024-07-18T19:02:35.115075151Z [1,0]<stdout>:{'loss': 1.9462, 'grad_norm': 3.588608980178833, 'learning_rate': 0.00019979333640833947, 'epoch': 0.75}\n",
      "2024-07-18T19:02:37.151713126Z [1,0]<stdout>:{'loss': 1.872, 'grad_norm': 5.091362476348877, 'learning_rate': 0.00019973010051548275, 'epoch': 0.78}\n",
      "2024-07-18T19:02:39.182252411Z [1,0]<stdout>:{'loss': 2.3027, 'grad_norm': 5.656705379486084, 'learning_rate': 0.000199658449300667, 'epoch': 0.8}\n",
      "2024-07-18T19:02:41.204388188Z [1,0]<stdout>:{'loss': 1.0825, 'grad_norm': 4.0559539794921875, 'learning_rate': 0.00019957838880989078, 'epoch': 0.83}\n",
      "2024-07-18T19:02:43.230053572Z [1,0]<stdout>:{'loss': 1.7663, 'grad_norm': 4.535796642303467, 'learning_rate': 0.00019948992579873538, 'epoch': 0.86}\n",
      "2024-07-18T19:02:45.263890717Z [1,0]<stdout>:{'loss': 1.5966, 'grad_norm': 4.3361287117004395, 'learning_rate': 0.00019939306773179497, 'epoch': 0.89}\n",
      "2024-07-18T19:02:47.301890333Z [1,0]<stdout>:{'loss': 1.3996, 'grad_norm': 4.796653747558594, 'learning_rate': 0.0001992878227820465, 'epoch': 0.91}\n",
      "2024-07-18T19:02:49.337927769Z [1,0]<stdout>:{'loss': 1.5052, 'grad_norm': 5.705697536468506, 'learning_rate': 0.00019917419983016025, 'epoch': 0.94}\n",
      "2024-07-18T19:02:51.375571713Z [1,0]<stdout>:{'loss': 1.5031, 'grad_norm': 5.2892374992370605, 'learning_rate': 0.00019905220846375032, 'epoch': 0.97}\n",
      "2024-07-18T19:02:53.428866762Z [1,0]<stdout>:{'loss': 1.6331, 'grad_norm': 5.3718743324279785, 'learning_rate': 0.00019892185897656578, 'epoch': 1.0}\n",
      "2024-07-18T19:02:55.460376657Z [1,0]<stdout>:{'loss': 1.3735, 'grad_norm': 6.5316290855407715, 'learning_rate': 0.00019878316236762196, 'epoch': 1.02}\n",
      "2024-07-18T19:02:57.496551136Z [1,0]<stdout>:{'loss': 1.1289, 'grad_norm': 4.817115306854248, 'learning_rate': 0.00019863613034027224, 'epoch': 1.05}\n",
      "2024-07-18T19:02:59.524481999Z [1,0]<stdout>:{'loss': 1.3853, 'grad_norm': 5.298244953155518, 'learning_rate': 0.00019848077530122083, 'epoch': 1.08}\n",
      "2024-07-18T19:03:01.562436067Z [1,0]<stdout>:{'loss': 1.5741, 'grad_norm': 4.504785060882568, 'learning_rate': 0.0001983171103594755, 'epoch': 1.11}\n",
      "2024-07-18T19:03:03.594283712Z [1,0]<stdout>:{'loss': 0.7365, 'grad_norm': 4.421940326690674, 'learning_rate': 0.0001981451493252418, 'epoch': 1.13}\n",
      "2024-07-18T19:03:05.622353397Z [1,0]<stdout>:{'loss': 1.1509, 'grad_norm': 3.760101556777954, 'learning_rate': 0.0001979649067087574, 'epoch': 1.16}\n",
      "2024-07-18T19:03:07.658839770Z [1,0]<stdout>:{'loss': 0.7738, 'grad_norm': 4.5725836753845215, 'learning_rate': 0.00019777639771906795, 'epoch': 1.19}\n",
      "2024-07-18T19:03:09.689248335Z [1,0]<stdout>:{'loss': 1.0988, 'grad_norm': 4.399253845214844, 'learning_rate': 0.00019757963826274357, 'epoch': 1.22}\n",
      "2024-07-18T19:03:11.719097536Z [1,0]<stdout>:{'loss': 1.4704, 'grad_norm': 4.3353590965271, 'learning_rate': 0.0001973746449425368, 'epoch': 1.25}\n",
      "2024-07-18T19:03:13.746617864Z [1,0]<stdout>:{'loss': 1.0454, 'grad_norm': 4.861902713775635, 'learning_rate': 0.0001971614350559814, 'epoch': 1.27}\n",
      "2024-07-18T19:03:15.784336913Z [1,0]<stdout>:{'loss': 1.4347, 'grad_norm': 6.348928928375244, 'learning_rate': 0.00019694002659393305, 'epoch': 1.3}\n",
      "2024-07-18T19:03:17.812049690Z [1,0]<stdout>:{'loss': 1.8299, 'grad_norm': 6.4406938552856445, 'learning_rate': 0.0001967104382390511, 'epoch': 1.33}\n",
      "2024-07-18T19:03:19.844406647Z [1,0]<stdout>:{'loss': 1.0696, 'grad_norm': 4.5681562423706055, 'learning_rate': 0.00019647268936422206, 'epoch': 1.36}\n",
      "2024-07-18T19:03:21.870708605Z [1,0]<stdout>:{'loss': 1.6081, 'grad_norm': 4.277446746826172, 'learning_rate': 0.00019622680003092503, 'epoch': 1.38}\n",
      "2024-07-18T19:03:23.927563188Z [1,0]<stdout>:{'loss': 1.0744, 'grad_norm': 3.4219560623168945, 'learning_rate': 0.0001959727909875389, 'epoch': 1.41}\n",
      "2024-07-18T19:03:25.964475691Z [1,0]<stdout>:{'loss': 1.456, 'grad_norm': 4.484326362609863, 'learning_rate': 0.00019571068366759143, 'epoch': 1.44}\n"
     ]
    }
   ],
   "source": [
    "job_run.logs()"
   ]
  },
  {
   "cell_type": "code",
   "execution_count": null,
   "id": "c8cfd81a-fa49-444d-9e92-ac0ff7dbd815",
   "metadata": {},
   "outputs": [
    {
     "data": {
      "text/plain": [
       "'Job \"lm-mpi-job-aed16db5-4c6a-46a1-a2ed-7a4f3b1db83d\" deleted'"
      ]
     },
     "execution_count": 38,
     "metadata": {},
     "output_type": "execute_result"
    }
   ],
   "source": [
    "job_run.kill()"
   ]
  }
 ],
 "metadata": {
  "kernelspec": {
   "display_name": "Python [conda env:base] *",
   "language": "python",
   "name": "conda-base-py"
  },
  "language_info": {
   "codemirror_mode": {
    "name": "ipython",
    "version": 3
   },
   "file_extension": ".py",
   "mimetype": "text/x-python",
   "name": "python",
   "nbconvert_exporter": "python",
   "pygments_lexer": "ipython3",
   "version": "3.9.19"
  }
 },
 "nbformat": 4,
 "nbformat_minor": 5
}
