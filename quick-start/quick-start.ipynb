{
 "cells": [
  {
   "cell_type": "markdown",
   "metadata": {},
   "source": [
    "### Данный notebook предназначен для запуска на juputer server внутри AICloud. Если вы хотит провести те же самые операции пользуясь своим удаленным juputer сервером, то посмотрите пример отправки задач на обучение REST."
   ]
  },
  {
   "cell_type": "markdown",
   "metadata": {},
   "source": [
    "# 0. Подключение библиотеки для работы с кластером и сервисом"
   ]
  },
  {
   "cell_type": "code",
   "execution_count": 24,
   "metadata": {},
   "outputs": [],
   "source": [
    "try:\n",
    "    import client_lib\n",
    "except ImportError:\n",
    "    raise RuntimeError(\"Скрипт не предназначен для запуска вне кластера\")"
   ]
  },
  {
   "cell_type": "code",
   "execution_count": 2,
   "metadata": {},
   "outputs": [],
   "source": [
    "import requests"
   ]
  },
  {
   "cell_type": "code",
   "execution_count": 4,
   "metadata": {},
   "outputs": [],
   "source": [
    "def save_file(url, filename):\n",
    "    # Download file and place it on local storage\n",
    "    r = requests.get(url)\n",
    "\n",
    "    with open(filename, 'wb') as f:\n",
    "        f.write(r.content)\n",
    "    print(f\"{filename} downloaded from {url}\")"
   ]
  },
  {
   "cell_type": "markdown",
   "metadata": {},
   "source": [
    "# 1. Размещаем на локальные диски модель и данные"
   ]
  },
  {
   "cell_type": "markdown",
   "metadata": {},
   "source": [
    "По умолчанию локальная рабочая директория установлена в папку `/home/jovyan`"
   ]
  },
  {
   "cell_type": "code",
   "execution_count": 5,
   "metadata": {},
   "outputs": [
    {
     "name": "stdout",
     "output_type": "stream",
     "text": [
      "mnist.npz downloaded from https://github.com/sbercloud-ai/aicloud-examples/raw/master/quick-start/mnist.npz\n"
     ]
    }
   ],
   "source": [
    "save_file(\"https://github.com/sbercloud-ai/aicloud-examples/raw/master/quick-start/mnist.npz\", \"mnist.npz\")"
   ]
  },
  {
   "cell_type": "code",
   "execution_count": 9,
   "metadata": {},
   "outputs": [
    {
     "name": "stdout",
     "output_type": "stream",
     "text": [
      "requirements.txt downloaded from https://github.com/sbercloud-ai/aicloud-examples/raw/master/quick-start/requirements.txt\n"
     ]
    }
   ],
   "source": [
    "save_file(\"https://github.com/sbercloud-ai/aicloud-examples/raw/master/quick-start/requirements.txt\", \"requirements.txt\")"
   ]
  },
  {
   "cell_type": "code",
   "execution_count": 10,
   "metadata": {},
   "outputs": [
    {
     "name": "stdout",
     "output_type": "stream",
     "text": [
      "tensorflow_mnist_estimator.py downloaded from https://raw.githubusercontent.com/sbercloud-ai/aicloud-examples/master/quick-start/tensorflow_mnist_estimator.py\n"
     ]
    }
   ],
   "source": [
    "save_file(\"https://raw.githubusercontent.com/sbercloud-ai/aicloud-examples/master/quick-start/tensorflow_mnist_estimator.py\", \"tensorflow_mnist_estimator.py\")"
   ]
  },
  {
   "cell_type": "markdown",
   "metadata": {},
   "source": [
    "# 2. Сборка образа с нужными библиотеками"
   ]
  },
  {
   "cell_type": "markdown",
   "metadata": {},
   "source": [
    "##### Файлик requirements.txt и его содержимое"
   ]
  },
  {
   "cell_type": "code",
   "execution_count": 11,
   "metadata": {},
   "outputs": [
    {
     "name": "stdout",
     "output_type": "stream",
     "text": [
      "tensorflow-gpu==1.15.0"
     ]
    }
   ],
   "source": [
    "!cat /home/jovyan/requirements.txt"
   ]
  },
  {
   "cell_type": "markdown",
   "metadata": {},
   "source": [
    "##### Запуск сборки кастомного образа с необходимыми библиотеками"
   ]
  },
  {
   "cell_type": "code",
   "execution_count": 7,
   "metadata": {},
   "outputs": [],
   "source": [
    "job = client_lib.ImageBuildJob(\n",
    "                    from_image='registry.aicloud.sbcp.ru/horovod-tf15',\n",
    "                    requirements_file='/home/jovyan/requirements.txt'\n",
    ")"
   ]
  },
  {
   "cell_type": "code",
   "execution_count": 8,
   "metadata": {},
   "outputs": [
    {
     "data": {
      "text/plain": [
       "'ImageBuildJob \"{\\'image\\': \\'registry.aicloud.sbcp.ru/ai0000001-0090/365cf0ee-af91-4b62-865f-f0ce28a9efef\\', \\'name\\': \\'image-build-job-zdvgd\\', \\'status\\': \\'ok\\'}\" created'"
      ]
     },
     "execution_count": 8,
     "metadata": {},
     "output_type": "execute_result"
    }
   ],
   "source": [
    "job.submit()"
   ]
  },
  {
   "cell_type": "code",
   "execution_count": 9,
   "metadata": {
    "scrolled": true
   },
   "outputs": [
    {
     "data": {
      "text/plain": [
       "'registry.aicloud.sbcp.ru/ai0000001-0090/365cf0ee-af91-4b62-865f-f0ce28a9efef'"
      ]
     },
     "execution_count": 9,
     "metadata": {},
     "output_type": "execute_result"
    }
   ],
   "source": [
    "job.new_image"
   ]
  },
  {
   "cell_type": "code",
   "execution_count": 10,
   "metadata": {
    "scrolled": true
   },
   "outputs": [
    {
     "name": "stdout",
     "output_type": "stream",
     "text": [
      "\u001b[36mINFO\u001b[0m[0000] Resolved base name registry.aicloud.sbcp.ru/horovod-tf15 to registry.aicloud.sbcp.ru/horovod-tf15 \n",
      "\u001b[36mINFO\u001b[0m[0000] Resolved base name registry.aicloud.sbcp.ru/horovod-tf15 to registry.aicloud.sbcp.ru/horovod-tf15 \n",
      "\u001b[36mINFO\u001b[0m[0000] Retrieving image manifest registry.aicloud.sbcp.ru/horovod-tf15 \n",
      "\u001b[36mINFO\u001b[0m[0000] Retrieving image manifest registry.aicloud.sbcp.ru/horovod-tf15 \n",
      "\u001b[36mINFO\u001b[0m[0000] Built cross stage deps: map[]                \n",
      "\u001b[36mINFO\u001b[0m[0000] Retrieving image manifest registry.aicloud.sbcp.ru/horovod-tf15 \n",
      "\u001b[36mINFO\u001b[0m[0000] Retrieving image manifest registry.aicloud.sbcp.ru/horovod-tf15 \n",
      "\u001b[36mINFO\u001b[0m[0000] Checking for cached layer registry.aicloud.sbcp.ru/ai0000001-0090/365cf0ee-af91-4b62-865f-f0ce28a9efef/cache:81d726fa7182b3cde5d942f1ea73c94d79b465af30c67d2382b18ddb6c0681c9... \n",
      "\u001b[36mINFO\u001b[0m[0000] No cached layer found for cmd RUN if [ -e /context/requirements.txt ]; then pip install --user --no-cache -r /context/requirements.txt; fi \n",
      "\u001b[36mINFO\u001b[0m[0000] Unpacking rootfs as cmd RUN if [ -e /context/requirements.txt ]; then pip install --user --no-cache -r /context/requirements.txt; fi requires it. \n",
      "\u001b[36mINFO\u001b[0m[0231] Taking snapshot of full filesystem...        \n",
      "\u001b[36mINFO\u001b[0m[0239] RUN if [ -e /context/requirements.txt ]; then pip install --user --no-cache -r /context/requirements.txt; fi \n",
      "\u001b[36mINFO\u001b[0m[0239] cmd: /bin/bash                               \n",
      "\u001b[36mINFO\u001b[0m[0239] args: [-cu if [ -e /context/requirements.txt ]; then pip install --user --no-cache -r /context/requirements.txt; fi] \n",
      "Requirement already satisfied: tensorflow-gpu==1.15.0 in /usr/local/lib/python3.6/dist-packages (from -r /context/requirements.txt (line 1)) (1.15.0)\n",
      "Requirement already satisfied: astor>=0.6.0 in /usr/local/lib/python3.6/dist-packages (from tensorflow-gpu==1.15.0->-r /context/requirements.txt (line 1)) (0.8.1)\n",
      "Requirement already satisfied: protobuf>=3.6.1 in /usr/local/lib/python3.6/dist-packages (from tensorflow-gpu==1.15.0->-r /context/requirements.txt (line 1)) (3.11.1)\n",
      "Requirement already satisfied: tensorflow-estimator==1.15.1 in /usr/local/lib/python3.6/dist-packages (from tensorflow-gpu==1.15.0->-r /context/requirements.txt (line 1)) (1.15.1)\n",
      "Requirement already satisfied: grpcio>=1.8.6 in /usr/local/lib/python3.6/dist-packages (from tensorflow-gpu==1.15.0->-r /context/requirements.txt (line 1)) (1.26.0)\n",
      "Requirement already satisfied: tensorboard<1.16.0,>=1.15.0 in /usr/local/lib/python3.6/dist-packages (from tensorflow-gpu==1.15.0->-r /context/requirements.txt (line 1)) (1.15.0)\n",
      "Requirement already satisfied: keras-preprocessing>=1.0.5 in /usr/local/lib/python3.6/dist-packages (from tensorflow-gpu==1.15.0->-r /context/requirements.txt (line 1)) (1.1.0)\n",
      "Requirement already satisfied: numpy<2.0,>=1.16.0 in /usr/local/lib/python3.6/dist-packages (from tensorflow-gpu==1.15.0->-r /context/requirements.txt (line 1)) (1.17.4)\n",
      "Requirement already satisfied: wheel>=0.26 in /usr/local/lib/python3.6/dist-packages (from tensorflow-gpu==1.15.0->-r /context/requirements.txt (line 1)) (0.33.6)\n",
      "Requirement already satisfied: absl-py>=0.7.0 in /usr/local/lib/python3.6/dist-packages (from tensorflow-gpu==1.15.0->-r /context/requirements.txt (line 1)) (0.9.0)\n",
      "Requirement already satisfied: google-pasta>=0.1.6 in /usr/local/lib/python3.6/dist-packages (from tensorflow-gpu==1.15.0->-r /context/requirements.txt (line 1)) (0.1.8)\n",
      "Requirement already satisfied: termcolor>=1.1.0 in /usr/local/lib/python3.6/dist-packages (from tensorflow-gpu==1.15.0->-r /context/requirements.txt (line 1)) (1.1.0)\n",
      "Requirement already satisfied: wrapt>=1.11.1 in /usr/local/lib/python3.6/dist-packages (from tensorflow-gpu==1.15.0->-r /context/requirements.txt (line 1)) (1.11.2)\n",
      "Requirement already satisfied: six>=1.10.0 in /usr/local/lib/python3.6/dist-packages (from tensorflow-gpu==1.15.0->-r /context/requirements.txt (line 1)) (1.13.0)\n",
      "Requirement already satisfied: keras-applications>=1.0.8 in /usr/local/lib/python3.6/dist-packages (from tensorflow-gpu==1.15.0->-r /context/requirements.txt (line 1)) (1.0.8)\n",
      "Requirement already satisfied: gast==0.2.2 in /usr/local/lib/python3.6/dist-packages (from tensorflow-gpu==1.15.0->-r /context/requirements.txt (line 1)) (0.2.2)\n",
      "Requirement already satisfied: opt-einsum>=2.3.2 in /usr/local/lib/python3.6/dist-packages (from tensorflow-gpu==1.15.0->-r /context/requirements.txt (line 1)) (3.1.0)\n",
      "Requirement already satisfied: setuptools in /usr/local/lib/python3.6/dist-packages (from protobuf>=3.6.1->tensorflow-gpu==1.15.0->-r /context/requirements.txt (line 1)) (42.0.2)\n",
      "Requirement already satisfied: markdown>=2.6.8 in /usr/local/lib/python3.6/dist-packages (from tensorboard<1.16.0,>=1.15.0->tensorflow-gpu==1.15.0->-r /context/requirements.txt (line 1)) (3.1.1)\n",
      "Requirement already satisfied: werkzeug>=0.11.15 in /usr/local/lib/python3.6/dist-packages (from tensorboard<1.16.0,>=1.15.0->tensorflow-gpu==1.15.0->-r /context/requirements.txt (line 1)) (0.16.0)\n",
      "Requirement already satisfied: h5py in /usr/local/lib/python3.6/dist-packages (from keras-applications>=1.0.8->tensorflow-gpu==1.15.0->-r /context/requirements.txt (line 1)) (2.10.0)\n",
      "WARNING: You are using pip version 19.3.1; however, version 20.0.2 is available.\n",
      "You should consider upgrading via the 'pip install --upgrade pip' command.\n",
      "\u001b[36mINFO\u001b[0m[0241] Taking snapshot of full filesystem...        \n",
      "\u001b[36mINFO\u001b[0m[0245] Pushing layer registry.aicloud.sbcp.ru/ai0000001-0090/365cf0ee-af91-4b62-865f-f0ce28a9efef/cache:81d726fa7182b3cde5d942f1ea73c94d79b465af30c67d2382b18ddb6c0681c9 to cache now \n"
     ]
    }
   ],
   "source": [
    "job.logs()"
   ]
  },
  {
   "cell_type": "markdown",
   "metadata": {},
   "source": [
    "# 3. Запуск задачи обучения"
   ]
  },
  {
   "cell_type": "markdown",
   "metadata": {},
   "source": [
    "#### Создание задачи и отправка на кластер"
   ]
  },
  {
   "cell_type": "code",
   "execution_count": 11,
   "metadata": {},
   "outputs": [],
   "source": [
    "mnist_tf_run = client_lib.Job(base_image='registry.aicloud.sbcp.ru/ai0000001-0090/09aa1302-6d95-4f04-8f23-71013679aa00',\n",
    "                              script='tensorflow_mnist_estimator.py', \n",
    "                              n_workers=2, n_gpus=4, warm_cache=False, detached=False)"
   ]
  },
  {
   "cell_type": "markdown",
   "metadata": {},
   "source": [
    "#### В предыдущей строке мы указали образ, в рамках которого будет исполняться задача (base_image), скрипт, который будет запущен (script), а также количество хостовых исполнителей (n_workers) и количество GPU-карт на каждом (n_gpus). \n",
    "#### В этом случае под задачу будет запущено 2 узла по 4 ГПУ карты (ИТОГО - 8 GPU).\n",
    "#### Теперь вызовем на объекте метод .submit() и отправим задачу в очередь исполнения на кластере"
   ]
  },
  {
   "cell_type": "code",
   "execution_count": 12,
   "metadata": {},
   "outputs": [
    {
     "data": {
      "text/plain": [
       "'Job \"lm-mpi-job-a4965598-9d4f-40ab-b001-31e609aeb3f9\" created'"
      ]
     },
     "execution_count": 12,
     "metadata": {},
     "output_type": "execute_result"
    }
   ],
   "source": [
    "mnist_tf_run.submit()"
   ]
  },
  {
   "cell_type": "markdown",
   "metadata": {},
   "source": [
    "#### Вы можете просмотреть список ваших задач и их статус с помощью следующего метода"
   ]
  },
  {
   "cell_type": "code",
   "execution_count": 13,
   "metadata": {
    "scrolled": true
   },
   "outputs": [
    {
     "name": "stdout",
     "output_type": "stream",
     "text": [
      "2020-02-28T14:54:31Z : lm-mpi-job-0170cd13-0dde-4741-9b02-ce9f0eee1349 : Completed\n",
      "2020-02-20T08:39:16Z : lm-mpi-job-0ac8ff95-7c6d-4c20-bf4f-19cdec0070ca : Completed\n",
      "2020-03-05T08:17:51Z : lm-mpi-job-0dbfcf60-ebf4-4020-bc82-d93862d597b4 : Completed\n",
      "2020-03-03T13:28:02Z : lm-mpi-job-0e875e8d-01b1-4ed9-a4a4-6d4de951fb00 : Completed\n",
      "2020-03-03T15:46:37Z : lm-mpi-job-1702cf84-60f1-4ca9-bba6-a22605c09558 : Completed\n",
      "2020-03-03T13:33:09Z : lm-mpi-job-27d99673-f827-441a-994c-7cfb4e611679 : Completed\n",
      "2020-02-13T16:39:04Z : lm-mpi-job-335a09be-1ecb-4661-920b-857d21e6f850 : Completed\n",
      "2020-02-04T09:58:29Z : lm-mpi-job-4ef73dd8-9d3d-487b-9570-7d66df018ef6 : Completed\n",
      "2020-02-04T09:40:27Z : lm-mpi-job-53783174-5696-4f40-a5ff-bba8dd5c3963 : Completed\n",
      "2020-02-27T15:42:14Z : lm-mpi-job-5801b303-f94f-41b8-a928-dca1cc55a068 : Completed\n",
      "2020-02-27T10:38:49Z : lm-mpi-job-5f7e27d6-8391-4ccc-9bb8-c39a5b7928fe : Completed\n",
      "2020-02-13T14:25:28Z : lm-mpi-job-73cdd281-f0f1-48a1-83cc-74930836cf54 : Completed\n",
      "2020-03-03T14:37:53Z : lm-mpi-job-7d7a81ff-bac9-437a-814e-a8c8007b9e0b : Completed\n",
      "2020-02-04T11:36:23Z : lm-mpi-job-83defa24-ee62-4f20-9bc9-75e37b798320 : Completed\n",
      "2020-02-27T16:26:27Z : lm-mpi-job-8ca799ab-f66a-4527-85a9-c95b1d2869f7 : Completed\n",
      "2020-02-27T14:24:39Z : lm-mpi-job-8e1b9c4b-5759-4715-bda5-8f8738ef70eb : Completed\n",
      "2020-02-04T10:03:51Z : lm-mpi-job-9531ca4d-d3aa-4d27-9d18-6f685fa1daec : Completed\n",
      "2020-02-28T12:16:04Z : lm-mpi-job-99458360-3610-4760-9e9f-b3fd7bb53024 : Completed\n",
      "2020-03-19T11:11:20Z : lm-mpi-job-a4965598-9d4f-40ab-b001-31e609aeb3f9 : Pending\n",
      "2020-03-03T13:24:46Z : lm-mpi-job-afc07080-1cbf-4037-bb7f-288a6b08843c : Completed\n",
      "2020-03-03T13:50:58Z : lm-mpi-job-b8952c97-0b09-45c0-8151-a7f878c8055c : Completed\n",
      "2020-02-13T14:26:32Z : lm-mpi-job-ba23c8b0-8450-44ff-8cbb-88224420565f : Completed\n",
      "2020-02-27T09:18:59Z : lm-mpi-job-d3acfb6b-b2e0-4f0c-81c3-60958a332887 : Completed\n",
      "2020-02-04T09:50:40Z : lm-mpi-job-d5c6272c-d20d-42ae-95e6-0ef03e87a340 : Completed\n",
      "2020-03-03T13:36:59Z : lm-mpi-job-d99cf41a-4b11-44bb-a672-c9768aed2d0e : Completed\n",
      "2020-03-02T13:02:29Z : lm-mpi-job-d9e9cc7e-0738-46c0-9183-8e8fd554e71a : Completed\n",
      "2020-02-26T09:33:09Z : lm-mpi-job-e702622c-7856-43da-b1ff-25d94818e77e : Completed\n",
      "2020-02-28T14:49:48Z : lm-mpi-job-e7462c25-1a99-4b78-a145-7c09663b5f41 : Completed\n",
      "2020-02-04T10:05:18Z : lm-mpi-job-eac0a81b-245b-4bb6-bca6-eaa81f93bfde : Completed\n",
      "2020-02-04T09:41:51Z : lm-mpi-job-f384186d-83b1-45b2-a179-149e6f5ee0c0 : Completed\n",
      "2020-02-04T11:36:51Z : lm-mpi-job-fd73555e-222b-4148-be5a-5ceafa699306 : Completed\n"
     ]
    }
   ],
   "source": [
    "client_lib.jobs()"
   ]
  },
  {
   "cell_type": "markdown",
   "metadata": {},
   "source": [
    "#### Логи задачи"
   ]
  },
  {
   "cell_type": "code",
   "execution_count": null,
   "metadata": {},
   "outputs": [],
   "source": [
    "mnist_tf_run.logs()"
   ]
  },
  {
   "cell_type": "markdown",
   "metadata": {},
   "source": [
    "##### или по названию задачи"
   ]
  },
  {
   "cell_type": "code",
   "execution_count": 7,
   "metadata": {},
   "outputs": [
    {
     "name": "stdout",
     "output_type": "stream",
     "text": [
      "Job in queue. Try later"
     ]
    }
   ],
   "source": [
    "client_lib.logs(\"lm-mpi-job-5a371168-5ed5-4ec6-8af0-490c8cc4e167\")"
   ]
  },
  {
   "cell_type": "markdown",
   "metadata": {},
   "source": [
    "#### (ЕСЛИ НЕОБХОДИМО ПРЕРВАТЬ ЗАДАЧУ) Варианты убийства задачи"
   ]
  },
  {
   "cell_type": "code",
   "execution_count": 10,
   "metadata": {},
   "outputs": [
    {
     "data": {
      "text/plain": [
       "'Job \"lm-mpi-job-a0f7fdc7-3b27-45aa-a709-4f4821b887a1\" deleted'"
      ]
     },
     "execution_count": 10,
     "metadata": {},
     "output_type": "execute_result"
    }
   ],
   "source": [
    "mnist_tf_run.kill()"
   ]
  },
  {
   "cell_type": "code",
   "execution_count": 38,
   "metadata": {},
   "outputs": [
    {
     "data": {
      "text/plain": [
       "'Job \"lm-mpi-job-3f332e07-ebca-4e22-afc8-852d6c53a922\" deleted'"
      ]
     },
     "execution_count": 38,
     "metadata": {},
     "output_type": "execute_result"
    }
   ],
   "source": [
    "client_lib.kill('lm-mpi-job-3f332e07-ebca-4e22-afc8-852d6c53a922')"
   ]
  },
  {
   "cell_type": "markdown",
   "metadata": {},
   "source": [
    "# 4. Сохранение результатов обучения модели"
   ]
  },
  {
   "cell_type": "markdown",
   "metadata": {},
   "source": [
    "В процессе обучения модели чекпоинты сохраняются в папке `/home/jovyan/checkpoints_tf/mnist_convnet_model/`, их можно скачать:\n",
    "* через веб-интерфейс jupyter notebook\n",
    "* скопировать из локально доступной файловой системы на s3"
   ]
  },
  {
   "cell_type": "markdown",
   "metadata": {},
   "source": [
    "## Выгрузка результатов на S3"
   ]
  },
  {
   "cell_type": "markdown",
   "metadata": {},
   "source": [
    "##### Указываем данные для доступа к S3 бакету"
   ]
  },
  {
   "cell_type": "markdown",
   "metadata": {},
   "source": [
    "Далее вам необходимо указать данные для доступа к S3-хранилищу в вашем аккаунте (которые можно найти на портале в \"моих услугах\"->\"AI Cloud\").\n",
    "\n",
    "Введите внутрь одинарных кавычек `''` по порядку свои : `S3 namespace`, `S3 access key`, `S3 security key`"
   ]
  },
  {
   "cell_type": "code",
   "execution_count": 15,
   "metadata": {
    "scrolled": true
   },
   "outputs": [],
   "source": [
    "# Specify S3 credentials as follows\n",
    "# save_aws_credentials('b175178b-f537-4a1c-8977-7871bb9dc448-namespace', 'b13f3480-a701-48fb-85c5-b4a3b36f3713', 'BPBdF5E9CGAFv+rmBakFc+R0krVCHd/u4rPsqfG8')\n",
    "client_lib.save_aws_credentials('', '', '')"
   ]
  },
  {
   "cell_type": "markdown",
   "metadata": {},
   "source": [
    "Ниже укажем s3-bucket, туда будут копироваться файлы"
   ]
  },
  {
   "cell_type": "code",
   "execution_count": null,
   "metadata": {},
   "outputs": [],
   "source": [
    "# Specify S3 bucket\n",
    "# s3_bucket = \"s3://9b8d0e96-6461-47cf-9507-21ede838c9ac-bucket/\"\n",
    "s3_bucket = \"\""
   ]
  },
  {
   "cell_type": "code",
   "execution_count": null,
   "metadata": {},
   "outputs": [],
   "source": [
    "# Перемещение отдельных файлов\n",
    "# client_lib.S3CopyJob(\"/home/jovyan/checkpoints_tf/mnist_convnet_model/model.ckpt-10937.data-00000-of-00001\", s3_bucket).submit()\n",
    "# client_lib.S3CopyJob(\"/home/jovyan/checkpoints_tf/mnist_convnet_model/model.ckpt-10937.index\", s3_bucket).submit()\n",
    "# client_lib.S3CopyJob(\"/home/jovyan/checkpoints_tf/mnist_convnet_model/model.ckpt-10937.meta\", s3_bucket).submit()"
   ]
  },
  {
   "cell_type": "code",
   "execution_count": 19,
   "metadata": {
    "scrolled": false
   },
   "outputs": [
    {
     "data": {
      "text/plain": [
       "'S3CopyJob \"{\\'name\\': \\'copying-job-wvgz2\\', \\'status\\': \\'ok\\'}\" created'"
      ]
     },
     "execution_count": 19,
     "metadata": {},
     "output_type": "execute_result"
    }
   ],
   "source": [
    "# Перемещение папки с файлами\n",
    "client_lib.S3CopyJob(\"/home/jovyan/checkpoints_tf/mnist_convnet_model/\", s3_bucket, recursive=True).submit()"
   ]
  },
  {
   "cell_type": "markdown",
   "metadata": {},
   "source": [
    "Если все было сделано правильно, то Чекпоинт сохранится на ваш S3, и из него можно будет восстановить объект с моделью"
   ]
  }
 ],
 "metadata": {
  "kernelspec": {
   "display_name": "Python 3",
   "language": "python",
   "name": "python3"
  },
  "language_info": {
   "codemirror_mode": {
    "name": "ipython",
    "version": 3
   },
   "file_extension": ".py",
   "mimetype": "text/x-python",
   "name": "python",
   "nbconvert_exporter": "python",
   "pygments_lexer": "ipython3",
   "version": "3.6.7"
  }
 },
 "nbformat": 4,
 "nbformat_minor": 2
}
