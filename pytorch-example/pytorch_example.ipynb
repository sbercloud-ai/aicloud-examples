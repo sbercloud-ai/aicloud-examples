{
 "cells": [
  {
   "cell_type": "code",
   "execution_count": 1,
   "metadata": {},
   "outputs": [],
   "source": [
    "import client_lib\n",
    "import requests"
   ]
  },
  {
   "cell_type": "code",
   "execution_count": 2,
   "metadata": {},
   "outputs": [],
   "source": [
    "def save_file(url, filename):\n",
    "    # Download file and place it on local storage\n",
    "    r = requests.get(url)\n",
    "\n",
    "    with open(filename, 'wb') as f:\n",
    "        f.write(r.content)\n",
    "    print(f\"{filename} downloaded from {url}\")"
   ]
  },
  {
   "cell_type": "code",
   "execution_count": 3,
   "metadata": {
    "pycharm": {
     "name": "#%%\n"
    }
   },
   "outputs": [
    {
     "name": "stdout",
     "output_type": "stream",
     "text": [
      "Working dir: /home/jovyan/pytorch_examples\n"
     ]
    }
   ],
   "source": [
    "import pathlib\n",
    "# BASE_DIR will be like '/home/jovyan/DemoExample/'\n",
    "BASE_DIR = str(pathlib.Path().absolute())\n",
    "print(f\"Working dir: {BASE_DIR}\")"
   ]
  },
  {
   "cell_type": "markdown",
   "metadata": {},
   "source": [
    "## Загрузка данных"
   ]
  },
  {
   "cell_type": "code",
   "execution_count": 4,
   "metadata": {},
   "outputs": [
    {
     "name": "stdout",
     "output_type": "stream",
     "text": [
      "mnist.npz downloaded from https://github.com/sbercloud-ai/aicloud-examples/raw/master/quick-start/mnist.npz\n"
     ]
    }
   ],
   "source": [
    "save_file(\"https://github.com/sbercloud-ai/aicloud-examples/raw/master/quick-start/job_launch/mnist.npz\", \"mnist.npz\")"
   ]
  },
  {
   "cell_type": "markdown",
   "metadata": {},
   "source": [
    "## Обучение с использованием Horovod"
   ]
  },
  {
   "cell_type": "code",
   "execution_count": 5,
   "metadata": {},
   "outputs": [],
   "source": [
    "torch_run_horovod = client_lib.Job(\n",
    "    base_image='registry.aicloud.sbcp.ru/horovod-tf15',\n",
    "    script=f'{BASE_DIR}/train_horovod_example.py',\n",
    "    n_workers = 2,\n",
    "    instance_type = a100.1gpu.80vG.12C.96G,\n",
    "    type='horovod')"
   ]
  },
  {
   "cell_type": "markdown",
   "metadata": {},
   "source": [
    "#### Запуск обучения с использованием Horovod"
   ]
  },
  {
   "cell_type": "code",
   "execution_count": 6,
   "metadata": {},
   "outputs": [
    {
     "data": {
      "text/plain": [
       "'Job \"lm-mpi-job-131e7a4d-c670-4457-9f70-26032370a6c6\" created'"
      ]
     },
     "execution_count": 6,
     "metadata": {},
     "output_type": "execute_result"
    }
   ],
   "source": [
    "torch_run_horovod.submit()"
   ]
  },
  {
   "cell_type": "code",
   "execution_count": null,
   "metadata": {},
   "outputs": [],
   "source": [
    "torch_run_horovod.logs()"
   ]
  },
  {
   "cell_type": "markdown",
   "metadata": {},
   "source": [
    "## Обучение с использованием Pytorch-Distributed"
   ]
  },
  {
   "cell_type": "code",
   "execution_count": 7,
   "metadata": {},
   "outputs": [],
   "source": [
    "torch_run = client_lib.Job(\n",
    "    base_image='registry.aicloud.sbcp.ru/horovod-tf15',\n",
    "    script=f'{BASE_DIR}/train_distributed_example.py',\n",
    "    n_workers = 2,\n",
    "    instance_type = a100.1gpu.80vG.12C.96G,\n",
    "    type='pytorch')"
   ]
  },
  {
   "cell_type": "markdown",
   "metadata": {},
   "source": [
    "#### Запуск обучения с использованием Pytorch-Distributed"
   ]
  },
  {
   "cell_type": "code",
   "execution_count": 8,
   "metadata": {},
   "outputs": [
    {
     "data": {
      "text/plain": [
       "'Job \"lm-mpi-job-3c9ba517-5585-4a95-a68e-47b28d4e5676\" created'"
      ]
     },
     "execution_count": 8,
     "metadata": {},
     "output_type": "execute_result"
    }
   ],
   "source": [
    "torch_run.submit()"
   ]
  },
  {
   "cell_type": "code",
   "execution_count": null,
   "metadata": {},
   "outputs": [],
   "source": [
    "torch_run.logs()"
   ]
  }
 ],
 "metadata": {
  "kernelspec": {
   "display_name": "Python 3",
   "language": "python",
   "name": "python3"
  },
  "language_info": {
   "codemirror_mode": {
    "name": "ipython",
    "version": 3
   },
   "file_extension": ".py",
   "mimetype": "text/x-python",
   "name": "python",
   "nbconvert_exporter": "python",
   "pygments_lexer": "ipython3",
   "version": "3.6.7"
  }
 },
 "nbformat": 4,
 "nbformat_minor": 4
}
